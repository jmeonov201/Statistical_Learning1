{
 "cells": [
  {
   "cell_type": "code",
   "execution_count": 1,
   "metadata": {},
   "outputs": [
    {
     "name": "stderr",
     "output_type": "stream",
     "text": [
      "C:\\Users\\Johnatan\\Anaconda3\\lib\\site-packages\\h5py\\__init__.py:36: FutureWarning: Conversion of the second argument of issubdtype from `float` to `np.floating` is deprecated. In future, it will be treated as `np.float64 == np.dtype(float).type`.\n",
      "  from ._conv import register_converters as _register_converters\n"
     ]
    }
   ],
   "source": [
    "import tensorflow as tf\n",
    "from tensorflow import keras\n",
    "\n",
    "import numpy as np\n",
    "import matplotlib.pyplot as plt"
   ]
  },
  {
   "cell_type": "markdown",
   "metadata": {},
   "source": [
    "## Cargamos la data \n",
    "\n",
    "El dataset Fashion-MNIST cotiene 60,00 imagenes para el set de datos de entrenamiento y un set de datos de prueba de 10,000."
   ]
  },
  {
   "cell_type": "code",
   "execution_count": 2,
   "metadata": {},
   "outputs": [],
   "source": [
    "fashion_mnist = keras.datasets.fashion_mnist"
   ]
  },
  {
   "cell_type": "code",
   "execution_count": 3,
   "metadata": {},
   "outputs": [],
   "source": [
    "(train_images, train_labels), (test_images, test_labels) = fashion_mnist.load_data()"
   ]
  },
  {
   "cell_type": "markdown",
   "metadata": {},
   "source": [
    "## Imagenes\n",
    "Las imagenes son Numpy Arrays de 28x28, los pixeles estan entre los valores de 0 a 255"
   ]
  },
  {
   "cell_type": "code",
   "execution_count": 4,
   "metadata": {},
   "outputs": [
    {
     "data": {
      "text/plain": [
       "<matplotlib.colorbar.Colorbar at 0x19aaacbb438>"
      ]
     },
     "execution_count": 4,
     "metadata": {},
     "output_type": "execute_result"
    },
    {
     "data": {
      "image/png": "[encoded data removed]",
      "text/plain": [
       "<Figure size 432x288 with 2 Axes>"
      ]
     },
     "metadata": {},
     "output_type": "display_data"
    }
   ],
   "source": [
    "plt.imshow(train_images[10], cmap = 'gray')\n",
    "plt.colorbar()"
   ]
  },
  {
   "cell_type": "code",
   "execution_count": 5,
   "metadata": {},
   "outputs": [
    {
     "data": {
      "text/plain": [
       "array([[  0,   0,   0,   0,   0,   0,   0,  11, 142, 200, 106,   0,   0,\n",
       "          0,   0,   0,   0,   0,  85, 185, 112,   0,   0,   0,   0,   0,\n",
       "          0,   0],\n",
       "       [  0,   0,   0,   0,   0,   0, 152, 214, 217, 194, 236, 216, 187,\n",
       "        149, 135, 153, 211, 217, 231, 205, 217, 188,  34,   0,   0,   0,\n",
       "          0,   0],\n",
       "       [  0,   0,   0,   0,   0,  66, 185, 166, 180, 181, 190, 211, 221,\n",
       "        197, 146, 198, 206, 191, 168, 190, 172, 188, 175,   0,   0,   0,\n",
       "          0,   0],\n",
       "       [  0,   0,   0,   0,   0, 135, 153, 160, 175, 180, 170, 186, 187,\n",
       "        190, 188, 190, 187, 174, 195, 185, 174, 161, 175,  59,   0,   0,\n",
       "          0,   0],\n",
       "       [  0,   0,   0,   0,   0, 161, 147, 160, 170, 178, 177, 180, 168,\n",
       "        173, 174, 171, 185, 184, 185, 172, 171, 164, 174, 120,   0,   0,\n",
       "          0,   0],\n",
       "       [  0,   0,   0,   0,   2, 175, 146, 145, 168, 178, 181, 185, 180,\n",
       "        184, 178, 179, 187, 191, 193, 190, 181, 171, 172, 158,   0,   0,\n",
       "          0,   0],\n",
       "       [  0,   0,   0,   0,  35, 177, 155, 140, 151, 172, 191, 187, 186,\n",
       "        187, 186, 187, 182, 191, 194, 188, 180, 161, 161, 185,   0,   0,\n",
       "          0,   0],\n",
       "       [  0,   0,   0,   0,  59, 170, 153, 141, 120, 154, 160, 161, 172,\n",
       "        168, 166, 161, 165, 172, 170, 164, 139, 149, 162, 166,  21,   0,\n",
       "          0,   0],\n",
       "       [  0,   0,   0,   0,  79, 145, 160, 214, 123, 128, 153, 160, 164,\n",
       "        158, 157, 154, 155, 170, 165, 141, 195, 193, 152, 166,  61,   0,\n",
       "          0,   0],\n",
       "       [  0,   0,   0,   0, 100, 157, 225, 245, 175, 113, 174, 158, 158,\n",
       "        160, 155, 160, 164, 178, 188, 135, 185, 240, 201, 172, 108,   0,\n",
       "          0,   0],\n",
       "       [  0,   0,   0,   0,   0,  31, 174,  28, 126, 153, 166, 152, 158,\n",
       "        158, 160, 161, 157, 168, 191, 188,  18, 132, 159,   7,   0,   0,\n",
       "          0,   0],\n",
       "       [  0,   0,   0,   0,   0,   0,   0,   0,  82, 187, 159, 153, 157,\n",
       "        158, 162, 164, 164, 154, 187, 190,   0,   0,   0,   0,   0,   0,\n",
       "          0,   0],\n",
       "       [  0,   0,   0,   0,   1,   3,   5,   0,  37, 175, 158, 155, 162,\n",
       "        158, 160, 162, 165, 153, 177, 205,   0,   0,   3,   3,   0,   0,\n",
       "          0,   0],\n",
       "       [  0,   0,   0,   0,   0,   0,   1,   0,  25, 175, 152, 160, 158,\n",
       "        161, 160, 164, 164, 161, 166, 200,   0,   0,   1,   0,   0,   0,\n",
       "          0,   0],\n",
       "       [  0,   0,   0,   0,   0,   0,   4,   0,  30, 171, 147, 164, 155,\n",
       "        165, 161, 165, 162, 170, 164, 162,   0,   0,   2,   0,   0,   0,\n",
       "          0,   0],\n",
       "       [  0,   0,   0,   0,   0,   0,   4,   0,  57, 166, 155, 164, 166,\n",
       "        161, 161, 164, 167, 165, 165, 162,  28,   0,   3,   0,   0,   0,\n",
       "          0,   0],\n",
       "       [  0,   0,   0,   0,   0,   0,   3,   0, 114, 161, 161, 166, 159,\n",
       "        168, 161, 161, 172, 162, 165, 171,  50,   0,   5,   0,   0,   0,\n",
       "          0,   0],\n",
       "       [  0,   0,   0,   0,   0,   0,   1,   0, 149, 157, 167, 172, 159,\n",
       "        172, 164, 161, 172, 170, 160, 171,  89,   0,   4,   0,   0,   0,\n",
       "          0,   0],\n",
       "       [  0,   0,   0,   0,   0,   2,   0,   4, 171, 164, 166, 173, 159,\n",
       "        179, 166, 160, 174, 167, 162, 166, 128,   0,   2,   0,   0,   0,\n",
       "          0,   0],\n",
       "       [  0,   0,   0,   0,   0,   3,   0,  18, 152, 173, 160, 179, 154,\n",
       "        181, 166, 164, 175, 170, 166, 170, 164,   0,   0,   1,   0,   0,\n",
       "          0,   0],\n",
       "       [  0,   0,   0,   0,   0,   4,   0,  47, 165, 172, 167, 185, 153,\n",
       "        187, 173, 165, 174, 179, 166, 166, 158,   5,   0,   3,   0,   0,\n",
       "          0,   0],\n",
       "       [  0,   0,   0,   0,   0,   4,   0,  87, 180, 162, 179, 179, 157,\n",
       "        191, 182, 165, 168, 190, 173, 165, 166,  20,   0,   4,   0,   0,\n",
       "          0,   0],\n",
       "       [  0,   0,   0,   0,   0,   4,   0, 105, 187, 157, 194, 175, 161,\n",
       "        190, 184, 170, 158, 205, 177, 168, 171,  44,   0,   4,   0,   0,\n",
       "          0,   0],\n",
       "       [  0,   0,   0,   0,   0,   5,   0, 138, 181, 158, 205, 160, 167,\n",
       "        190, 198, 167, 152, 218, 186, 170, 172,  57,   0,   5,   0,   0,\n",
       "          0,   0],\n",
       "       [  0,   0,   0,   0,   0,   5,   0, 135, 174, 167, 199, 155, 166,\n",
       "        201, 219, 165, 158, 218, 188, 167, 175,  56,   0,   7,   0,   0,\n",
       "          0,   0],\n",
       "       [  0,   0,   0,   0,   0,   5,   0, 129, 171, 172, 177, 153, 159,\n",
       "        206, 216, 148, 157, 206, 190, 165, 175,  48,   0,   5,   0,   0,\n",
       "          0,   0],\n",
       "       [  0,   0,   0,   0,   0,   5,   0, 167, 187, 182, 198, 194, 200,\n",
       "        226, 240, 184, 206, 255, 197, 178, 179,  42,   0,   5,   0,   0,\n",
       "          0,   0],\n",
       "       [  0,   0,   0,   0,   0,   3,   0, 115, 135, 113, 106,  85,  82,\n",
       "        108, 133,  83,  90, 121, 120, 110, 158,  18,   0,   3,   0,   0,\n",
       "          0,   0]], dtype=uint8)"
      ]
     },
     "execution_count": 5,
     "metadata": {},
     "output_type": "execute_result"
    }
   ],
   "source": [
    "train_images[10]"
   ]
  },
  {
   "cell_type": "code",
   "execution_count": 6,
   "metadata": {},
   "outputs": [
    {
     "name": "stdout",
     "output_type": "stream",
     "text": [
      "Tipo <class 'numpy.ndarray'>\n",
      "Forma (28, 28)\n",
      "Rango 2\n",
      "Vista de los datos [[  0   0   0   0   0   0   0  11 142 200 106   0   0   0   0   0   0   0\n",
      "   85 185 112   0   0   0   0   0   0   0]\n",
      " [  0   0   0   0   0   0 152 214 217 194 236 216 187 149 135 153 211 217\n",
      "  231 205 217 188  34   0   0   0   0   0]\n",
      " [  0   0   0   0   0  66 185 166 180 181 190 211 221 197 146 198 206 191\n",
      "  168 190 172 188 175   0   0   0   0   0]\n",
      " [  0   0   0   0   0 135 153 160 175 180 170 186 187 190 188 190 187 174\n",
      "  195 185 174 161 175  59   0   0   0   0]\n",
      " [  0   0   0   0   0 161 147 160 170 178 177 180 168 173 174 171 185 184\n",
      "  185 172 171 164 174 120   0   0   0   0]\n",
      " [  0   0   0   0   2 175 146 145 168 178 181 185 180 184 178 179 187 191\n",
      "  193 190 181 171 172 158   0   0   0   0]\n",
      " [  0   0   0   0  35 177 155 140 151 172 191 187 186 187 186 187 182 191\n",
      "  194 188 180 161 161 185   0   0   0   0]\n",
      " [  0   0   0   0  59 170 153 141 120 154 160 161 172 168 166 161 165 172\n",
      "  170 164 139 149 162 166  21   0   0   0]\n",
      " [  0   0   0   0  79 145 160 214 123 128 153 160 164 158 157 154 155 170\n",
      "  165 141 195 193 152 166  61   0   0   0]\n",
      " [  0   0   0   0 100 157 225 245 175 113 174 158 158 160 155 160 164 178\n",
      "  188 135 185 240 201 172 108   0   0   0]\n",
      " [  0   0   0   0   0  31 174  28 126 153 166 152 158 158 160 161 157 168\n",
      "  191 188  18 132 159   7   0   0   0   0]\n",
      " [  0   0   0   0   0   0   0   0  82 187 159 153 157 158 162 164 164 154\n",
      "  187 190   0   0   0   0   0   0   0   0]\n",
      " [  0   0   0   0   1   3   5   0  37 175 158 155 162 158 160 162 165 153\n",
      "  177 205   0   0   3   3   0   0   0   0]\n",
      " [  0   0   0   0   0   0   1   0  25 175 152 160 158 161 160 164 164 161\n",
      "  166 200   0   0   1   0   0   0   0   0]\n",
      " [  0   0   0   0   0   0   4   0  30 171 147 164 155 165 161 165 162 170\n",
      "  164 162   0   0   2   0   0   0   0   0]\n",
      " [  0   0   0   0   0   0   4   0  57 166 155 164 166 161 161 164 167 165\n",
      "  165 162  28   0   3   0   0   0   0   0]\n",
      " [  0   0   0   0   0   0   3   0 114 161 161 166 159 168 161 161 172 162\n",
      "  165 171  50   0   5   0   0   0   0   0]\n",
      " [  0   0   0   0   0   0   1   0 149 157 167 172 159 172 164 161 172 170\n",
      "  160 171  89   0   4   0   0   0   0   0]\n",
      " [  0   0   0   0   0   2   0   4 171 164 166 173 159 179 166 160 174 167\n",
      "  162 166 128   0   2   0   0   0   0   0]\n",
      " [  0   0   0   0   0   3   0  18 152 173 160 179 154 181 166 164 175 170\n",
      "  166 170 164   0   0   1   0   0   0   0]\n",
      " [  0   0   0   0   0   4   0  47 165 172 167 185 153 187 173 165 174 179\n",
      "  166 166 158   5   0   3   0   0   0   0]\n",
      " [  0   0   0   0   0   4   0  87 180 162 179 179 157 191 182 165 168 190\n",
      "  173 165 166  20   0   4   0   0   0   0]\n",
      " [  0   0   0   0   0   4   0 105 187 157 194 175 161 190 184 170 158 205\n",
      "  177 168 171  44   0   4   0   0   0   0]\n",
      " [  0   0   0   0   0   5   0 138 181 158 205 160 167 190 198 167 152 218\n",
      "  186 170 172  57   0   5   0   0   0   0]\n",
      " [  0   0   0   0   0   5   0 135 174 167 199 155 166 201 219 165 158 218\n",
      "  188 167 175  56   0   7   0   0   0   0]\n",
      " [  0   0   0   0   0   5   0 129 171 172 177 153 159 206 216 148 157 206\n",
      "  190 165 175  48   0   5   0   0   0   0]\n",
      " [  0   0   0   0   0   5   0 167 187 182 198 194 200 226 240 184 206 255\n",
      "  197 178 179  42   0   5   0   0   0   0]\n",
      " [  0   0   0   0   0   3   0 115 135 113 106  85  82 108 133  83  90 121\n",
      "  120 110 158  18   0   3   0   0   0   0]]\n"
     ]
    }
   ],
   "source": [
    "print(\"Tipo\", type(train_images[10]))\n",
    "print(\"Forma\", train_images[10].shape)\n",
    "print(\"Rango\", train_images[10].ndim)\n",
    "print(\"Vista de los datos\", train_images[10])"
   ]
  },
  {
   "cell_type": "code",
   "execution_count": 7,
   "metadata": {},
   "outputs": [
    {
     "name": "stdout",
     "output_type": "stream",
     "text": [
      "Tipo <class 'numpy.ndarray'>\n",
      "Forma (60000, 28, 28)\n",
      "Rango 3\n",
      "Vista de los datos [[[0 0 0 ... 0 0 0]\n",
      "  [0 0 0 ... 0 0 0]\n",
      "  [0 0 0 ... 0 0 0]\n",
      "  ...\n",
      "  [0 0 0 ... 0 0 0]\n",
      "  [0 0 0 ... 0 0 0]\n",
      "  [0 0 0 ... 0 0 0]]\n",
      "\n",
      " [[0 0 0 ... 0 0 0]\n",
      "  [0 0 0 ... 0 0 0]\n",
      "  [0 0 0 ... 0 0 0]\n",
      "  ...\n",
      "  [0 0 0 ... 0 0 0]\n",
      "  [0 0 0 ... 0 0 0]\n",
      "  [0 0 0 ... 0 0 0]]\n",
      "\n",
      " [[0 0 0 ... 0 0 0]\n",
      "  [0 0 0 ... 0 0 0]\n",
      "  [0 0 0 ... 0 0 0]\n",
      "  ...\n",
      "  [0 0 0 ... 0 0 0]\n",
      "  [0 0 0 ... 0 0 0]\n",
      "  [0 0 0 ... 0 0 0]]\n",
      "\n",
      " ...\n",
      "\n",
      " [[0 0 0 ... 0 0 0]\n",
      "  [0 0 0 ... 0 0 0]\n",
      "  [0 0 0 ... 0 0 0]\n",
      "  ...\n",
      "  [0 0 0 ... 0 0 0]\n",
      "  [0 0 0 ... 0 0 0]\n",
      "  [0 0 0 ... 0 0 0]]\n",
      "\n",
      " [[0 0 0 ... 0 0 0]\n",
      "  [0 0 0 ... 0 0 0]\n",
      "  [0 0 0 ... 0 0 0]\n",
      "  ...\n",
      "  [0 0 0 ... 0 0 0]\n",
      "  [0 0 0 ... 0 0 0]\n",
      "  [0 0 0 ... 0 0 0]]\n",
      "\n",
      " [[0 0 0 ... 0 0 0]\n",
      "  [0 0 0 ... 0 0 0]\n",
      "  [0 0 0 ... 0 0 0]\n",
      "  ...\n",
      "  [0 0 0 ... 0 0 0]\n",
      "  [0 0 0 ... 0 0 0]\n",
      "  [0 0 0 ... 0 0 0]]]\n"
     ]
    }
   ],
   "source": [
    "print(\"Tipo\", type(train_images))\n",
    "print(\"Forma\", train_images.shape)\n",
    "print(\"Rango\", train_images.ndim)\n",
    "print(\"Vista de los datos\", train_images)"
   ]
  },
  {
   "cell_type": "code",
   "execution_count": 8,
   "metadata": {},
   "outputs": [
    {
     "data": {
      "text/plain": [
       "0"
      ]
     },
     "execution_count": 8,
     "metadata": {},
     "output_type": "execute_result"
    }
   ],
   "source": [
    "train_labels[10]"
   ]
  },
  {
   "cell_type": "code",
   "execution_count": 9,
   "metadata": {},
   "outputs": [
    {
     "name": "stdout",
     "output_type": "stream",
     "text": [
      "Tipo <class 'numpy.uint8'>\n",
      "Forma ()\n",
      "Rango 0\n",
      "Vista de los datos 0\n"
     ]
    }
   ],
   "source": [
    "print(\"Tipo\", type(train_labels[10]))\n",
    "print(\"Forma\", train_labels[10].shape)\n",
    "print(\"Rango\", train_labels[10].ndim)\n",
    "print(\"Vista de los datos\",train_labels[10])"
   ]
  },
  {
   "cell_type": "code",
   "execution_count": 10,
   "metadata": {},
   "outputs": [
    {
     "name": "stdout",
     "output_type": "stream",
     "text": [
      "Tipo <class 'numpy.ndarray'>\n",
      "Forma (60000,)\n",
      "Rango 1\n",
      "Vista de los datos [9 0 0 ... 3 0 5]\n",
      "Máximo 9\n",
      "Minimo 0\n"
     ]
    }
   ],
   "source": [
    "print(\"Tipo\", type(train_labels))\n",
    "print(\"Forma\", train_labels.shape)\n",
    "print(\"Rango\", train_labels.ndim)\n",
    "print(\"Vista de los datos\",train_labels)\n",
    "print(\"Máximo\", max(train_labels))\n",
    "print(\"Minimo\", min(train_labels))"
   ]
  },
  {
   "cell_type": "markdown",
   "metadata": {},
   "source": [
    "## Labels"
   ]
  },
  {
   "cell_type": "code",
   "execution_count": 11,
   "metadata": {},
   "outputs": [
    {
     "data": {
      "text/plain": [
       "array([0, 1, 2, 3, 4, 5, 6, 7, 8, 9], dtype=uint8)"
      ]
     },
     "execution_count": 11,
     "metadata": {},
     "output_type": "execute_result"
    }
   ],
   "source": [
    "np.unique(train_labels)"
   ]
  },
  {
   "cell_type": "markdown",
   "metadata": {},
   "source": [
    "| Label | Class       |\n",
    "|-------|-------------|\n",
    "| 0     | T-shirt/top |\n",
    "| 1     | Trouser     |\n",
    "| 2     | Pullover    |\n",
    "| 3     | Dress       |\n",
    "| 4     | Coat        |\n",
    "| 5     | Sandal      |\n",
    "| 6     | Shirt       |\n",
    "| 7     | Sneaker     |\n",
    "| 8     | Bag         |\n",
    "| 9     | Ankle boot  |"
   ]
  },
  {
   "cell_type": "code",
   "execution_count": 12,
   "metadata": {},
   "outputs": [
    {
     "data": {
      "image/png": "[encoded data removed]",
      "text/plain": [
       "<Figure size 720x720 with 25 Axes>"
      ]
     },
     "metadata": {},
     "output_type": "display_data"
    }
   ],
   "source": [
    "plt.figure(figsize=(10,10))\n",
    "\n",
    "for i in range(25):\n",
    "    plt.subplot(5,5,i+1)\n",
    "    plt.xticks([])\n",
    "    plt.yticks([])\n",
    "    plt.grid(False)\n",
    "    plt.imshow(train_images[i], cmap='viridis')\n",
    "    plt.xlabel(train_labels[i])\n",
    "plt.show()"
   ]
  },
  {
   "cell_type": "markdown",
   "metadata": {},
   "source": [
    "# Tarea\n",
    "\n",
    "Para esta tarea se deben utilizar únicamente 3 clases, se puede escoger cualquiera de las 10 disponibles en el data set, por lo que hay que filtrar las clases elegidas en los arreglos:\n",
    "- train_images\n",
    "- train_labels\n",
    "- test_images\n",
    "- test_labels\n",
    "\n",
    "El objetivo de la tarea es comparar la diferencia al aplicar feature scale/normalization y las features sin ninguna transformación y comparar el efecto de el scaling/normalización sobre el entrenamiento con regresión logística.\n",
    "- Se debe crear un diccionario con el valor numérico de las labels y el texto correspondiente para poder relacionar el valor numérico con el valor descriptivo/textual.\n",
    "******************\n",
    "- Aplicar regresión logística con entropía cruzada como función de costo, crear una función que recibe de entrada un tensor x y predice la clase(utilizar el diccionario para mostrar el texto perteneciente al label).\n",
    "- Adicional a el costo(por entropía cruzada) en el grafo se debe agregar un nodo que calcule el acurracy(comparando el valor real vs el estimado por el modelo).\n",
    "- El accuracy y el costo deben ser agregados a tensorboard(agregar screenshots al notebook)\n",
    "- Se debe agregar al notebook un screenshot del grafo/grafos de tensorboard, simplificando(usando names y name_scope como visto en clase).\n",
    "- Todo lo anterior se debe hacer tanto para datos crudos, como para datos transformados con (normalización y escalado)\n",
    "********************************************************************************************************************************\n",
    "- Basado en los ejemplos de visualización de imagenes en el notebook ,crear una función que reciba de entrada el tensor que representa a una imagen, grafique esta imagen poniendo como título el nombre de la prenda con mayor probabilidad.\n",
    "- Utilizar la función anterior para mostrar una muestra aleatoria de 5 imágenes(y la predicción probabilistica de la prenda)\n",
    "- Comparar con tensorboard las curvas de aprendizaje del entrenamiento con datos crudos vs datos transformados, y los 2 grafos y concluir/opinar al respecto usando markdown(agregando screenshots)\n",
    "***********************************************************\n",
    "- Utilizar mini batch gradient descent con batch size de 32"
   ]
  },
  {
   "cell_type": "markdown",
   "metadata": {},
   "source": [
    "# Nota: tengo problemas para correr tensorboard en mi laptop, el profesor trato de ayudarme pero no se pudo solucionar el problema"
   ]
  },
  {
   "cell_type": "markdown",
   "metadata": {},
   "source": [
    "## Filtrando train_labels y train_images\n",
    "Se escoge\n",
    "\n",
    "| Label | Class       |\n",
    "|-------|-------------|\n",
    "| 7     | Sneaker     |\n",
    "| 8     | Bag         |\n",
    "| 9     | Ankle boot  |"
   ]
  },
  {
   "cell_type": "markdown",
   "metadata": {},
   "source": [
    "## establenciendo el filtro "
   ]
  },
  {
   "cell_type": "code",
   "execution_count": 13,
   "metadata": {},
   "outputs": [],
   "source": [
    "filtro_tr_l_i = (train_labels == 7) | (train_labels == 8) | (train_labels == 9)  "
   ]
  },
  {
   "cell_type": "code",
   "execution_count": 14,
   "metadata": {},
   "outputs": [
    {
     "data": {
      "text/plain": [
       "array([ True, False, False, ..., False, False, False])"
      ]
     },
     "execution_count": 14,
     "metadata": {},
     "output_type": "execute_result"
    }
   ],
   "source": [
    "filtro_tr_l_i "
   ]
  },
  {
   "cell_type": "code",
   "execution_count": 15,
   "metadata": {},
   "outputs": [
    {
     "name": "stdout",
     "output_type": "stream",
     "text": [
      "Tipo <class 'numpy.ndarray'>\n",
      "Forma (60000,)\n",
      "Rango 1\n",
      "Vista de los datos [ True False False ... False False False]\n"
     ]
    }
   ],
   "source": [
    "print(\"Tipo\", type(filtro_tr_l_i))\n",
    "print(\"Forma\", filtro_tr_l_i.shape)\n",
    "print(\"Rango\", filtro_tr_l_i.ndim)\n",
    "print(\"Vista de los datos\",filtro_tr_l_i)"
   ]
  },
  {
   "cell_type": "markdown",
   "metadata": {},
   "source": [
    "## train_labels"
   ]
  },
  {
   "cell_type": "code",
   "execution_count": 16,
   "metadata": {},
   "outputs": [],
   "source": [
    "train_labels_tres = train_labels[filtro_tr_l_i]"
   ]
  },
  {
   "cell_type": "code",
   "execution_count": 17,
   "metadata": {},
   "outputs": [
    {
     "data": {
      "text/plain": [
       "array([9, 7, 9, ..., 7, 7, 8], dtype=uint8)"
      ]
     },
     "execution_count": 17,
     "metadata": {},
     "output_type": "execute_result"
    }
   ],
   "source": [
    "train_labels_tres"
   ]
  },
  {
   "cell_type": "code",
   "execution_count": 18,
   "metadata": {},
   "outputs": [
    {
     "name": "stdout",
     "output_type": "stream",
     "text": [
      "Tipo <class 'numpy.ndarray'>\n",
      "Forma (18000,)\n",
      "Rango 1\n",
      "Vista de los datos [9 7 9 ... 7 7 8]\n"
     ]
    }
   ],
   "source": [
    "print(\"Tipo\", type(train_labels_tres))\n",
    "print(\"Forma\", train_labels_tres.shape)\n",
    "print(\"Rango\", train_labels_tres.ndim)\n",
    "print(\"Vista de los datos\", train_labels_tres)"
   ]
  },
  {
   "cell_type": "markdown",
   "metadata": {},
   "source": [
    "## train_images"
   ]
  },
  {
   "cell_type": "code",
   "execution_count": 19,
   "metadata": {},
   "outputs": [],
   "source": [
    "train_images_tres = train_images[filtro_tr_l_i]"
   ]
  },
  {
   "cell_type": "code",
   "execution_count": 20,
   "metadata": {},
   "outputs": [
    {
     "data": {
      "text/plain": [
       "array([[[  0,   0,   0, ...,   0,   0,   0],\n",
       "        [  0,   0,   0, ...,   0,   0,   0],\n",
       "        [  0,   0,   0, ...,   0,   0,   0],\n",
       "        ...,\n",
       "        [  0,   0,   0, ...,   0,   0,   0],\n",
       "        [  0,   0,   0, ...,   0,   0,   0],\n",
       "        [  0,   0,   0, ...,   0,   0,   0]],\n",
       "\n",
       "       [[  0,   0,   0, ...,   0,   0,   0],\n",
       "        [  0,   0,   0, ...,   0,   0,   0],\n",
       "        [  0,   0,   0, ...,   0,   0,   0],\n",
       "        ...,\n",
       "        [  0,   0,   0, ...,   0,   0,   0],\n",
       "        [  0,   0,   0, ...,   0,   0,   0],\n",
       "        [  0,   0,   0, ...,   0,   0,   0]],\n",
       "\n",
       "       [[  0,   0,   0, ...,   0,   0,   0],\n",
       "        [  0,   0,   0, ...,   3,   0,   0],\n",
       "        [  0,   0,   0, ...,   9,   0,   0],\n",
       "        ...,\n",
       "        [  0,   9, 188, ...,   7,   0,   0],\n",
       "        [  0,   0,   0, ...,   4,   0,   0],\n",
       "        [  0,   0,   0, ...,   0,   0,   0]],\n",
       "\n",
       "       ...,\n",
       "\n",
       "       [[  0,   0,   0, ...,   0,   0,   0],\n",
       "        [  0,   0,   0, ...,   0,   0,   0],\n",
       "        [  0,   0,   0, ...,   0,   0,   0],\n",
       "        ...,\n",
       "        [  0,   0,   0, ...,   0,   0,   0],\n",
       "        [  0,   0,   0, ...,   0,   0,   0],\n",
       "        [  0,   0,   0, ...,   0,   0,   0]],\n",
       "\n",
       "       [[  0,   0,   0, ...,   0,   0,   0],\n",
       "        [  0,   0,   0, ...,   0,   0,   0],\n",
       "        [  0,   0,   0, ...,   0,   0,   0],\n",
       "        ...,\n",
       "        [  0,   0,   0, ...,   0,   0,   0],\n",
       "        [  0,   0,   0, ...,   0,   0,   0],\n",
       "        [  0,   0,   0, ...,   0,   0,   0]],\n",
       "\n",
       "       [[  0,   0,   0, ...,   0,   0,   0],\n",
       "        [  0,   0,   0, ...,   0,   0,   0],\n",
       "        [  0,   0,   0, ...,   0,   0,   0],\n",
       "        ...,\n",
       "        [  0,   0,   0, ...,   0,   0,   0],\n",
       "        [  0,   0,   0, ...,   0,   0,   0],\n",
       "        [  0,   0,   0, ...,   0,   0,   0]]], dtype=uint8)"
      ]
     },
     "execution_count": 20,
     "metadata": {},
     "output_type": "execute_result"
    }
   ],
   "source": [
    "train_images_tres"
   ]
  },
  {
   "cell_type": "code",
   "execution_count": 21,
   "metadata": {},
   "outputs": [
    {
     "name": "stdout",
     "output_type": "stream",
     "text": [
      "Tipo <class 'numpy.ndarray'>\n",
      "Forma (18000, 28, 28)\n",
      "Rango 3\n",
      "Vista de los datos [[[  0   0   0 ...   0   0   0]\n",
      "  [  0   0   0 ...   0   0   0]\n",
      "  [  0   0   0 ...   0   0   0]\n",
      "  ...\n",
      "  [  0   0   0 ...   0   0   0]\n",
      "  [  0   0   0 ...   0   0   0]\n",
      "  [  0   0   0 ...   0   0   0]]\n",
      "\n",
      " [[  0   0   0 ...   0   0   0]\n",
      "  [  0   0   0 ...   0   0   0]\n",
      "  [  0   0   0 ...   0   0   0]\n",
      "  ...\n",
      "  [  0   0   0 ...   0   0   0]\n",
      "  [  0   0   0 ...   0   0   0]\n",
      "  [  0   0   0 ...   0   0   0]]\n",
      "\n",
      " [[  0   0   0 ...   0   0   0]\n",
      "  [  0   0   0 ...   3   0   0]\n",
      "  [  0   0   0 ...   9   0   0]\n",
      "  ...\n",
      "  [  0   9 188 ...   7   0   0]\n",
      "  [  0   0   0 ...   4   0   0]\n",
      "  [  0   0   0 ...   0   0   0]]\n",
      "\n",
      " ...\n",
      "\n",
      " [[  0   0   0 ...   0   0   0]\n",
      "  [  0   0   0 ...   0   0   0]\n",
      "  [  0   0   0 ...   0   0   0]\n",
      "  ...\n",
      "  [  0   0   0 ...   0   0   0]\n",
      "  [  0   0   0 ...   0   0   0]\n",
      "  [  0   0   0 ...   0   0   0]]\n",
      "\n",
      " [[  0   0   0 ...   0   0   0]\n",
      "  [  0   0   0 ...   0   0   0]\n",
      "  [  0   0   0 ...   0   0   0]\n",
      "  ...\n",
      "  [  0   0   0 ...   0   0   0]\n",
      "  [  0   0   0 ...   0   0   0]\n",
      "  [  0   0   0 ...   0   0   0]]\n",
      "\n",
      " [[  0   0   0 ...   0   0   0]\n",
      "  [  0   0   0 ...   0   0   0]\n",
      "  [  0   0   0 ...   0   0   0]\n",
      "  ...\n",
      "  [  0   0   0 ...   0   0   0]\n",
      "  [  0   0   0 ...   0   0   0]\n",
      "  [  0   0   0 ...   0   0   0]]]\n"
     ]
    }
   ],
   "source": [
    "print(\"Tipo\", type(train_images_tres))\n",
    "print(\"Forma\", train_images_tres.shape)\n",
    "print(\"Rango\", train_images_tres.ndim)\n",
    "print(\"Vista de los datos\", train_images_tres)"
   ]
  },
  {
   "cell_type": "markdown",
   "metadata": {},
   "source": [
    "## imagenes de entrenamiento crudas "
   ]
  },
  {
   "cell_type": "code",
   "execution_count": 22,
   "metadata": {},
   "outputs": [],
   "source": [
    "train_images_tres_rsh = train_images_tres.reshape((18000,28*28))"
   ]
  },
  {
   "cell_type": "code",
   "execution_count": 23,
   "metadata": {},
   "outputs": [
    {
     "name": "stdout",
     "output_type": "stream",
     "text": [
      "Tipo <class 'numpy.ndarray'>\n",
      "Forma (18000, 784)\n",
      "Rango 2\n",
      "Vista de los datos [[0 0 0 ... 0 0 0]\n",
      " [0 0 0 ... 0 0 0]\n",
      " [0 0 0 ... 0 0 0]\n",
      " ...\n",
      " [0 0 0 ... 0 0 0]\n",
      " [0 0 0 ... 0 0 0]\n",
      " [0 0 0 ... 0 0 0]]\n"
     ]
    }
   ],
   "source": [
    "print(\"Tipo\", type(train_images_tres_rsh))\n",
    "print(\"Forma\", train_images_tres_rsh.shape)\n",
    "print(\"Rango\", train_images_tres_rsh.ndim)\n",
    "print(\"Vista de los datos\", train_images_tres_rsh)"
   ]
  },
  {
   "cell_type": "markdown",
   "metadata": {},
   "source": [
    "## Filtrando test_labels y test_images\n",
    "Se escogio\n",
    "\n",
    "| Label | Class       |\n",
    "|-------|-------------|\n",
    "| 7     | Sneaker     |\n",
    "| 8     | Bag         |\n",
    "| 9     | Ankle boot  |"
   ]
  },
  {
   "cell_type": "markdown",
   "metadata": {},
   "source": [
    "## establenciendo el filtro "
   ]
  },
  {
   "cell_type": "code",
   "execution_count": 24,
   "metadata": {},
   "outputs": [],
   "source": [
    "filtro_test_l_i = (test_labels == 7) | (test_labels == 8) | (test_labels == 9)  "
   ]
  },
  {
   "cell_type": "code",
   "execution_count": 25,
   "metadata": {},
   "outputs": [
    {
     "data": {
      "text/plain": [
       "array([ True, False, False, ...,  True, False, False])"
      ]
     },
     "execution_count": 25,
     "metadata": {},
     "output_type": "execute_result"
    }
   ],
   "source": [
    "filtro_test_l_i"
   ]
  },
  {
   "cell_type": "code",
   "execution_count": 26,
   "metadata": {},
   "outputs": [
    {
     "name": "stdout",
     "output_type": "stream",
     "text": [
      "Tipo <class 'numpy.ndarray'>\n",
      "Forma (10000,)\n",
      "Rango 1\n",
      "Vista de los datos [ True False False ...  True False False]\n"
     ]
    }
   ],
   "source": [
    "print(\"Tipo\", type(filtro_test_l_i))\n",
    "print(\"Forma\", filtro_test_l_i.shape)\n",
    "print(\"Rango\", filtro_test_l_i.ndim)\n",
    "print(\"Vista de los datos\", filtro_test_l_i)"
   ]
  },
  {
   "cell_type": "markdown",
   "metadata": {},
   "source": [
    "## test_labels"
   ]
  },
  {
   "cell_type": "code",
   "execution_count": 27,
   "metadata": {},
   "outputs": [],
   "source": [
    "test_labels_tres = test_labels[filtro_test_l_i]"
   ]
  },
  {
   "cell_type": "code",
   "execution_count": 28,
   "metadata": {},
   "outputs": [
    {
     "data": {
      "text/plain": [
       "array([9, 7, 7, ..., 9, 9, 8], dtype=uint8)"
      ]
     },
     "execution_count": 28,
     "metadata": {},
     "output_type": "execute_result"
    }
   ],
   "source": [
    "test_labels_tres "
   ]
  },
  {
   "cell_type": "code",
   "execution_count": 29,
   "metadata": {},
   "outputs": [
    {
     "name": "stdout",
     "output_type": "stream",
     "text": [
      "Tipo <class 'numpy.ndarray'>\n",
      "Forma (3000,)\n",
      "Rango 1\n",
      "Vista de los datos [9 7 7 ... 9 9 8]\n"
     ]
    }
   ],
   "source": [
    "print(\"Tipo\", type(test_labels_tres))\n",
    "print(\"Forma\", test_labels_tres.shape)\n",
    "print(\"Rango\", test_labels_tres.ndim)\n",
    "print(\"Vista de los datos\", test_labels_tres)"
   ]
  },
  {
   "cell_type": "markdown",
   "metadata": {},
   "source": [
    "## test_images"
   ]
  },
  {
   "cell_type": "code",
   "execution_count": 30,
   "metadata": {},
   "outputs": [],
   "source": [
    "test_images_tres = test_images[filtro_test_l_i]"
   ]
  },
  {
   "cell_type": "code",
   "execution_count": 31,
   "metadata": {},
   "outputs": [
    {
     "data": {
      "text/plain": [
       "array([[[0, 0, 0, ..., 0, 0, 0],\n",
       "        [0, 0, 0, ..., 0, 0, 0],\n",
       "        [0, 0, 0, ..., 0, 0, 0],\n",
       "        ...,\n",
       "        [0, 0, 0, ..., 0, 0, 0],\n",
       "        [0, 0, 0, ..., 0, 0, 0],\n",
       "        [0, 0, 0, ..., 0, 0, 0]],\n",
       "\n",
       "       [[0, 0, 0, ..., 0, 0, 0],\n",
       "        [0, 0, 0, ..., 0, 0, 0],\n",
       "        [0, 0, 0, ..., 0, 0, 0],\n",
       "        ...,\n",
       "        [0, 0, 0, ..., 0, 0, 0],\n",
       "        [0, 0, 0, ..., 0, 0, 0],\n",
       "        [0, 0, 0, ..., 0, 0, 0]],\n",
       "\n",
       "       [[0, 0, 0, ..., 0, 0, 0],\n",
       "        [0, 0, 0, ..., 0, 0, 0],\n",
       "        [0, 0, 0, ..., 0, 0, 0],\n",
       "        ...,\n",
       "        [0, 0, 0, ..., 0, 0, 0],\n",
       "        [0, 0, 0, ..., 0, 0, 0],\n",
       "        [0, 0, 0, ..., 0, 0, 0]],\n",
       "\n",
       "       ...,\n",
       "\n",
       "       [[0, 0, 0, ..., 0, 0, 0],\n",
       "        [0, 0, 0, ..., 0, 0, 0],\n",
       "        [0, 0, 0, ..., 0, 0, 0],\n",
       "        ...,\n",
       "        [0, 0, 0, ..., 0, 0, 0],\n",
       "        [0, 0, 0, ..., 0, 0, 0],\n",
       "        [0, 0, 0, ..., 0, 0, 0]],\n",
       "\n",
       "       [[0, 0, 0, ..., 0, 0, 0],\n",
       "        [0, 0, 0, ..., 0, 0, 0],\n",
       "        [0, 0, 0, ..., 0, 0, 0],\n",
       "        ...,\n",
       "        [0, 0, 0, ..., 0, 0, 0],\n",
       "        [0, 0, 0, ..., 0, 0, 0],\n",
       "        [0, 0, 0, ..., 0, 0, 0]],\n",
       "\n",
       "       [[0, 0, 0, ..., 0, 0, 0],\n",
       "        [0, 0, 0, ..., 0, 0, 0],\n",
       "        [0, 0, 0, ..., 0, 0, 0],\n",
       "        ...,\n",
       "        [0, 0, 0, ..., 0, 0, 0],\n",
       "        [0, 0, 0, ..., 0, 0, 0],\n",
       "        [0, 0, 0, ..., 0, 0, 0]]], dtype=uint8)"
      ]
     },
     "execution_count": 31,
     "metadata": {},
     "output_type": "execute_result"
    }
   ],
   "source": [
    "test_images_tres"
   ]
  },
  {
   "cell_type": "code",
   "execution_count": 32,
   "metadata": {},
   "outputs": [
    {
     "name": "stdout",
     "output_type": "stream",
     "text": [
      "Tipo <class 'numpy.ndarray'>\n",
      "Forma (3000, 28, 28)\n",
      "Rango 3\n",
      "Vista de los datos [[[0 0 0 ... 0 0 0]\n",
      "  [0 0 0 ... 0 0 0]\n",
      "  [0 0 0 ... 0 0 0]\n",
      "  ...\n",
      "  [0 0 0 ... 0 0 0]\n",
      "  [0 0 0 ... 0 0 0]\n",
      "  [0 0 0 ... 0 0 0]]\n",
      "\n",
      " [[0 0 0 ... 0 0 0]\n",
      "  [0 0 0 ... 0 0 0]\n",
      "  [0 0 0 ... 0 0 0]\n",
      "  ...\n",
      "  [0 0 0 ... 0 0 0]\n",
      "  [0 0 0 ... 0 0 0]\n",
      "  [0 0 0 ... 0 0 0]]\n",
      "\n",
      " [[0 0 0 ... 0 0 0]\n",
      "  [0 0 0 ... 0 0 0]\n",
      "  [0 0 0 ... 0 0 0]\n",
      "  ...\n",
      "  [0 0 0 ... 0 0 0]\n",
      "  [0 0 0 ... 0 0 0]\n",
      "  [0 0 0 ... 0 0 0]]\n",
      "\n",
      " ...\n",
      "\n",
      " [[0 0 0 ... 0 0 0]\n",
      "  [0 0 0 ... 0 0 0]\n",
      "  [0 0 0 ... 0 0 0]\n",
      "  ...\n",
      "  [0 0 0 ... 0 0 0]\n",
      "  [0 0 0 ... 0 0 0]\n",
      "  [0 0 0 ... 0 0 0]]\n",
      "\n",
      " [[0 0 0 ... 0 0 0]\n",
      "  [0 0 0 ... 0 0 0]\n",
      "  [0 0 0 ... 0 0 0]\n",
      "  ...\n",
      "  [0 0 0 ... 0 0 0]\n",
      "  [0 0 0 ... 0 0 0]\n",
      "  [0 0 0 ... 0 0 0]]\n",
      "\n",
      " [[0 0 0 ... 0 0 0]\n",
      "  [0 0 0 ... 0 0 0]\n",
      "  [0 0 0 ... 0 0 0]\n",
      "  ...\n",
      "  [0 0 0 ... 0 0 0]\n",
      "  [0 0 0 ... 0 0 0]\n",
      "  [0 0 0 ... 0 0 0]]]\n"
     ]
    }
   ],
   "source": [
    "print(\"Tipo\", type(test_images_tres))\n",
    "print(\"Forma\", test_images_tres.shape)\n",
    "print(\"Rango\", test_images_tres.ndim)\n",
    "print(\"Vista de los datos\", test_images_tres)"
   ]
  },
  {
   "cell_type": "markdown",
   "metadata": {},
   "source": [
    "## imagenes de  prueba crudas"
   ]
  },
  {
   "cell_type": "code",
   "execution_count": 33,
   "metadata": {},
   "outputs": [],
   "source": [
    "test_images_tres_rsh = test_images_tres.reshape((3000,28*28))"
   ]
  },
  {
   "cell_type": "code",
   "execution_count": 34,
   "metadata": {},
   "outputs": [
    {
     "name": "stdout",
     "output_type": "stream",
     "text": [
      "Tipo <class 'numpy.ndarray'>\n",
      "Forma (3000, 784)\n",
      "Rango 2\n",
      "Vista de los datos [[0 0 0 ... 0 0 0]\n",
      " [0 0 0 ... 0 0 0]\n",
      " [0 0 0 ... 0 0 0]\n",
      " ...\n",
      " [0 0 0 ... 0 0 0]\n",
      " [0 0 0 ... 0 0 0]\n",
      " [0 0 0 ... 0 0 0]]\n"
     ]
    }
   ],
   "source": [
    "print(\"Tipo\", type(test_images_tres_rsh))\n",
    "print(\"Forma\", test_images_tres_rsh.shape)\n",
    "print(\"Rango\", test_images_tres_rsh.ndim)\n",
    "print(\"Vista de los datos\", test_images_tres_rsh)"
   ]
  },
  {
   "cell_type": "markdown",
   "metadata": {},
   "source": [
    "## Normalizando"
   ]
  },
  {
   "cell_type": "markdown",
   "metadata": {},
   "source": [
    "## Normalizacion de train_images"
   ]
  },
  {
   "cell_type": "code",
   "execution_count": 35,
   "metadata": {},
   "outputs": [],
   "source": [
    "train_images_tres_norm = (train_images_tres_rsh/255)"
   ]
  },
  {
   "cell_type": "code",
   "execution_count": 36,
   "metadata": {},
   "outputs": [
    {
     "data": {
      "text/plain": [
       "array([[0., 0., 0., ..., 0., 0., 0.],\n",
       "       [0., 0., 0., ..., 0., 0., 0.],\n",
       "       [0., 0., 0., ..., 0., 0., 0.],\n",
       "       ...,\n",
       "       [0., 0., 0., ..., 0., 0., 0.],\n",
       "       [0., 0., 0., ..., 0., 0., 0.],\n",
       "       [0., 0., 0., ..., 0., 0., 0.]])"
      ]
     },
     "execution_count": 36,
     "metadata": {},
     "output_type": "execute_result"
    }
   ],
   "source": [
    "train_images_tres_norm"
   ]
  },
  {
   "cell_type": "code",
   "execution_count": 37,
   "metadata": {},
   "outputs": [
    {
     "data": {
      "text/plain": [
       "array([0.        , 0.        , 0.        , 0.        , 0.        ,\n",
       "       0.        , 0.        , 0.        , 0.        , 0.        ,\n",
       "       0.        , 0.        , 0.        , 0.        , 0.        ,\n",
       "       0.        , 0.        , 0.        , 0.        , 0.        ,\n",
       "       0.        , 0.        , 0.        , 0.        , 0.        ,\n",
       "       0.        , 0.        , 0.        , 0.        , 0.        ,\n",
       "       0.        , 0.        , 0.        , 0.        , 0.        ,\n",
       "       0.        , 0.        , 0.        , 0.        , 0.        ,\n",
       "       0.        , 0.        , 0.        , 0.        , 0.        ,\n",
       "       0.        , 0.        , 0.        , 0.        , 0.        ,\n",
       "       0.        , 0.        , 0.        , 0.        , 0.        ,\n",
       "       0.        , 0.        , 0.        , 0.        , 0.        ,\n",
       "       0.        , 0.        , 0.        , 0.        , 0.        ,\n",
       "       0.        , 0.        , 0.        , 0.        , 0.        ,\n",
       "       0.        , 0.        , 0.        , 0.        , 0.        ,\n",
       "       0.        , 0.        , 0.        , 0.        , 0.        ,\n",
       "       0.        , 0.        , 0.        , 0.        , 0.        ,\n",
       "       0.        , 0.        , 0.        , 0.        , 0.        ,\n",
       "       0.        , 0.        , 0.        , 0.        , 0.        ,\n",
       "       0.        , 0.00392157, 0.        , 0.        , 0.05098039,\n",
       "       0.28627451, 0.        , 0.        , 0.00392157, 0.01568627,\n",
       "       0.        , 0.        , 0.        , 0.        , 0.00392157,\n",
       "       0.00392157, 0.        , 0.        , 0.        , 0.        ,\n",
       "       0.        , 0.        , 0.        , 0.        , 0.        ,\n",
       "       0.        , 0.        , 0.        , 0.        , 0.01176471,\n",
       "       0.        , 0.14117647, 0.53333333, 0.49803922, 0.24313725,\n",
       "       0.21176471, 0.        , 0.        , 0.        , 0.00392157,\n",
       "       0.01176471, 0.01568627, 0.        , 0.        , 0.01176471,\n",
       "       0.        , 0.        , 0.        , 0.        , 0.        ,\n",
       "       0.        , 0.        , 0.        , 0.        , 0.        ,\n",
       "       0.        , 0.        , 0.02352941, 0.        , 0.4       ,\n",
       "       0.8       , 0.69019608, 0.5254902 , 0.56470588, 0.48235294,\n",
       "       0.09019608, 0.        , 0.        , 0.        , 0.        ,\n",
       "       0.04705882, 0.03921569, 0.        , 0.        , 0.        ,\n",
       "       0.        , 0.        , 0.        , 0.        , 0.        ,\n",
       "       0.        , 0.        , 0.        , 0.        , 0.        ,\n",
       "       0.        , 0.        , 0.60784314, 0.9254902 , 0.81176471,\n",
       "       0.69803922, 0.41960784, 0.61176471, 0.63137255, 0.42745098,\n",
       "       0.25098039, 0.09019608, 0.30196078, 0.50980392, 0.28235294,\n",
       "       0.05882353, 0.        , 0.        , 0.        , 0.        ,\n",
       "       0.        , 0.        , 0.        , 0.        , 0.        ,\n",
       "       0.        , 0.        , 0.00392157, 0.        , 0.27058824,\n",
       "       0.81176471, 0.8745098 , 0.85490196, 0.84705882, 0.84705882,\n",
       "       0.63921569, 0.49803922, 0.4745098 , 0.47843137, 0.57254902,\n",
       "       0.55294118, 0.34509804, 0.6745098 , 0.25882353, 0.        ,\n",
       "       0.        , 0.        , 0.        , 0.        , 0.        ,\n",
       "       0.        , 0.        , 0.        , 0.00392157, 0.00392157,\n",
       "       0.00392157, 0.        , 0.78431373, 0.90980392, 0.90980392,\n",
       "       0.91372549, 0.89803922, 0.8745098 , 0.8745098 , 0.84313725,\n",
       "       0.83529412, 0.64313725, 0.49803922, 0.48235294, 0.76862745,\n",
       "       0.89803922, 0.        , 0.        , 0.        , 0.        ,\n",
       "       0.        , 0.        , 0.        , 0.        , 0.        ,\n",
       "       0.        , 0.        , 0.        , 0.        , 0.        ,\n",
       "       0.71764706, 0.88235294, 0.84705882, 0.8745098 , 0.89411765,\n",
       "       0.92156863, 0.89019608, 0.87843137, 0.87058824, 0.87843137,\n",
       "       0.86666667, 0.8745098 , 0.96078431, 0.67843137, 0.        ,\n",
       "       0.        , 0.        , 0.        , 0.        , 0.        ,\n",
       "       0.        , 0.        , 0.        , 0.        , 0.        ,\n",
       "       0.        , 0.        , 0.        , 0.75686275, 0.89411765,\n",
       "       0.85490196, 0.83529412, 0.77647059, 0.70588235, 0.83137255,\n",
       "       0.82352941, 0.82745098, 0.83529412, 0.8745098 , 0.8627451 ,\n",
       "       0.95294118, 0.79215686, 0.        , 0.        , 0.        ,\n",
       "       0.        , 0.        , 0.        , 0.        , 0.        ,\n",
       "       0.        , 0.        , 0.00392157, 0.01176471, 0.        ,\n",
       "       0.04705882, 0.85882353, 0.8627451 , 0.83137255, 0.85490196,\n",
       "       0.75294118, 0.6627451 , 0.89019608, 0.81568627, 0.85490196,\n",
       "       0.87843137, 0.83137255, 0.88627451, 0.77254902, 0.81960784,\n",
       "       0.20392157, 0.        , 0.        , 0.        , 0.        ,\n",
       "       0.        , 0.        , 0.        , 0.        , 0.        ,\n",
       "       0.        , 0.02352941, 0.        , 0.38823529, 0.95686275,\n",
       "       0.87058824, 0.8627451 , 0.85490196, 0.79607843, 0.77647059,\n",
       "       0.86666667, 0.84313725, 0.83529412, 0.87058824, 0.8627451 ,\n",
       "       0.96078431, 0.46666667, 0.65490196, 0.21960784, 0.        ,\n",
       "       0.        , 0.        , 0.        , 0.        , 0.        ,\n",
       "       0.        , 0.        , 0.        , 0.01568627, 0.        ,\n",
       "       0.        , 0.21568627, 0.9254902 , 0.89411765, 0.90196078,\n",
       "       0.89411765, 0.94117647, 0.90980392, 0.83529412, 0.85490196,\n",
       "       0.8745098 , 0.91764706, 0.85098039, 0.85098039, 0.81960784,\n",
       "       0.36078431, 0.        , 0.        , 0.        , 0.00392157,\n",
       "       0.01568627, 0.02352941, 0.02745098, 0.00784314, 0.        ,\n",
       "       0.        , 0.        , 0.        , 0.        , 0.92941176,\n",
       "       0.88627451, 0.85098039, 0.8745098 , 0.87058824, 0.85882353,\n",
       "       0.87058824, 0.86666667, 0.84705882, 0.8745098 , 0.89803922,\n",
       "       0.84313725, 0.85490196, 1.        , 0.30196078, 0.        ,\n",
       "       0.        , 0.01176471, 0.        , 0.        , 0.        ,\n",
       "       0.        , 0.        , 0.        , 0.        , 0.24313725,\n",
       "       0.56862745, 0.8       , 0.89411765, 0.81176471, 0.83529412,\n",
       "       0.86666667, 0.85490196, 0.81568627, 0.82745098, 0.85490196,\n",
       "       0.87843137, 0.8745098 , 0.85882353, 0.84313725, 0.87843137,\n",
       "       0.95686275, 0.62352941, 0.        , 0.        , 0.        ,\n",
       "       0.        , 0.        , 0.07058824, 0.17254902, 0.32156863,\n",
       "       0.41960784, 0.74117647, 0.89411765, 0.8627451 , 0.87058824,\n",
       "       0.85098039, 0.88627451, 0.78431373, 0.80392157, 0.82745098,\n",
       "       0.90196078, 0.87843137, 0.91764706, 0.69019608, 0.7372549 ,\n",
       "       0.98039216, 0.97254902, 0.91372549, 0.93333333, 0.84313725,\n",
       "       0.        , 0.        , 0.22352941, 0.73333333, 0.81568627,\n",
       "       0.87843137, 0.86666667, 0.87843137, 0.81568627, 0.8       ,\n",
       "       0.83921569, 0.81568627, 0.81960784, 0.78431373, 0.62352941,\n",
       "       0.96078431, 0.75686275, 0.80784314, 0.8745098 , 1.        ,\n",
       "       1.        , 0.86666667, 0.91764706, 0.86666667, 0.82745098,\n",
       "       0.8627451 , 0.90980392, 0.96470588, 0.        , 0.01176471,\n",
       "       0.79215686, 0.89411765, 0.87843137, 0.86666667, 0.82745098,\n",
       "       0.82745098, 0.83921569, 0.80392157, 0.80392157, 0.80392157,\n",
       "       0.8627451 , 0.94117647, 0.31372549, 0.58823529, 1.        ,\n",
       "       0.89803922, 0.86666667, 0.7372549 , 0.60392157, 0.74901961,\n",
       "       0.82352941, 0.8       , 0.81960784, 0.87058824, 0.89411765,\n",
       "       0.88235294, 0.        , 0.38431373, 0.91372549, 0.77647059,\n",
       "       0.82352941, 0.87058824, 0.89803922, 0.89803922, 0.91764706,\n",
       "       0.97647059, 0.8627451 , 0.76078431, 0.84313725, 0.85098039,\n",
       "       0.94509804, 0.25490196, 0.28627451, 0.41568627, 0.45882353,\n",
       "       0.65882353, 0.85882353, 0.86666667, 0.84313725, 0.85098039,\n",
       "       0.8745098 , 0.8745098 , 0.87843137, 0.89803922, 0.11372549,\n",
       "       0.29411765, 0.8       , 0.83137255, 0.8       , 0.75686275,\n",
       "       0.80392157, 0.82745098, 0.88235294, 0.84705882, 0.7254902 ,\n",
       "       0.77254902, 0.80784314, 0.77647059, 0.83529412, 0.94117647,\n",
       "       0.76470588, 0.89019608, 0.96078431, 0.9372549 , 0.8745098 ,\n",
       "       0.85490196, 0.83137255, 0.81960784, 0.87058824, 0.8627451 ,\n",
       "       0.86666667, 0.90196078, 0.2627451 , 0.18823529, 0.79607843,\n",
       "       0.71764706, 0.76078431, 0.83529412, 0.77254902, 0.7254902 ,\n",
       "       0.74509804, 0.76078431, 0.75294118, 0.79215686, 0.83921569,\n",
       "       0.85882353, 0.86666667, 0.8627451 , 0.9254902 , 0.88235294,\n",
       "       0.84705882, 0.78039216, 0.80784314, 0.72941176, 0.70980392,\n",
       "       0.69411765, 0.6745098 , 0.70980392, 0.80392157, 0.80784314,\n",
       "       0.45098039, 0.        , 0.47843137, 0.85882353, 0.75686275,\n",
       "       0.70196078, 0.67058824, 0.71764706, 0.76862745, 0.8       ,\n",
       "       0.82352941, 0.83529412, 0.81176471, 0.82745098, 0.82352941,\n",
       "       0.78431373, 0.76862745, 0.76078431, 0.74901961, 0.76470588,\n",
       "       0.74901961, 0.77647059, 0.75294118, 0.69019608, 0.61176471,\n",
       "       0.65490196, 0.69411765, 0.82352941, 0.36078431, 0.        ,\n",
       "       0.        , 0.29019608, 0.74117647, 0.83137255, 0.74901961,\n",
       "       0.68627451, 0.6745098 , 0.68627451, 0.70980392, 0.7254902 ,\n",
       "       0.7372549 , 0.74117647, 0.7372549 , 0.75686275, 0.77647059,\n",
       "       0.8       , 0.81960784, 0.82352941, 0.82352941, 0.82745098,\n",
       "       0.7372549 , 0.7372549 , 0.76078431, 0.75294118, 0.84705882,\n",
       "       0.66666667, 0.        , 0.00784314, 0.        , 0.        ,\n",
       "       0.        , 0.25882353, 0.78431373, 0.87058824, 0.92941176,\n",
       "       0.9372549 , 0.94901961, 0.96470588, 0.95294118, 0.95686275,\n",
       "       0.86666667, 0.8627451 , 0.75686275, 0.74901961, 0.70196078,\n",
       "       0.71372549, 0.71372549, 0.70980392, 0.69019608, 0.65098039,\n",
       "       0.65882353, 0.38823529, 0.22745098, 0.        , 0.        ,\n",
       "       0.        , 0.        , 0.        , 0.        , 0.        ,\n",
       "       0.        , 0.        , 0.15686275, 0.23921569, 0.17254902,\n",
       "       0.28235294, 0.16078431, 0.1372549 , 0.        , 0.        ,\n",
       "       0.        , 0.        , 0.        , 0.        , 0.        ,\n",
       "       0.        , 0.        , 0.        , 0.        , 0.        ,\n",
       "       0.        , 0.        , 0.        , 0.        , 0.        ,\n",
       "       0.        , 0.        , 0.        , 0.        , 0.        ,\n",
       "       0.        , 0.        , 0.        , 0.        , 0.        ,\n",
       "       0.        , 0.        , 0.        , 0.        , 0.        ,\n",
       "       0.        , 0.        , 0.        , 0.        , 0.        ,\n",
       "       0.        , 0.        , 0.        , 0.        , 0.        ,\n",
       "       0.        , 0.        , 0.        , 0.        , 0.        ,\n",
       "       0.        , 0.        , 0.        , 0.        , 0.        ,\n",
       "       0.        , 0.        , 0.        , 0.        , 0.        ,\n",
       "       0.        , 0.        , 0.        , 0.        , 0.        ,\n",
       "       0.        , 0.        , 0.        , 0.        , 0.        ,\n",
       "       0.        , 0.        , 0.        , 0.        ])"
      ]
     },
     "execution_count": 37,
     "metadata": {},
     "output_type": "execute_result"
    }
   ],
   "source": [
    "train_images_tres_norm[0]"
   ]
  },
  {
   "cell_type": "markdown",
   "metadata": {},
   "source": [
    "## Normalizacion de test_images"
   ]
  },
  {
   "cell_type": "code",
   "execution_count": 38,
   "metadata": {},
   "outputs": [],
   "source": [
    "test_images_tres_norm = (test_images_tres_rsh/255)"
   ]
  },
  {
   "cell_type": "code",
   "execution_count": 39,
   "metadata": {},
   "outputs": [
    {
     "data": {
      "text/plain": [
       "array([[0., 0., 0., ..., 0., 0., 0.],\n",
       "       [0., 0., 0., ..., 0., 0., 0.],\n",
       "       [0., 0., 0., ..., 0., 0., 0.],\n",
       "       ...,\n",
       "       [0., 0., 0., ..., 0., 0., 0.],\n",
       "       [0., 0., 0., ..., 0., 0., 0.],\n",
       "       [0., 0., 0., ..., 0., 0., 0.]])"
      ]
     },
     "execution_count": 39,
     "metadata": {},
     "output_type": "execute_result"
    }
   ],
   "source": [
    "test_images_tres_norm"
   ]
  },
  {
   "cell_type": "code",
   "execution_count": 40,
   "metadata": {},
   "outputs": [
    {
     "data": {
      "text/plain": [
       "array([0.        , 0.        , 0.        , 0.        , 0.        ,\n",
       "       0.        , 0.        , 0.        , 0.        , 0.        ,\n",
       "       0.        , 0.        , 0.        , 0.        , 0.        ,\n",
       "       0.        , 0.        , 0.        , 0.        , 0.        ,\n",
       "       0.        , 0.        , 0.        , 0.        , 0.        ,\n",
       "       0.        , 0.        , 0.        , 0.        , 0.        ,\n",
       "       0.        , 0.        , 0.        , 0.        , 0.        ,\n",
       "       0.        , 0.        , 0.        , 0.        , 0.        ,\n",
       "       0.        , 0.        , 0.        , 0.        , 0.        ,\n",
       "       0.        , 0.        , 0.        , 0.        , 0.        ,\n",
       "       0.        , 0.        , 0.        , 0.        , 0.        ,\n",
       "       0.        , 0.        , 0.        , 0.        , 0.        ,\n",
       "       0.        , 0.        , 0.        , 0.        , 0.        ,\n",
       "       0.        , 0.        , 0.        , 0.        , 0.        ,\n",
       "       0.        , 0.        , 0.        , 0.        , 0.        ,\n",
       "       0.        , 0.        , 0.        , 0.        , 0.        ,\n",
       "       0.        , 0.        , 0.        , 0.        , 0.        ,\n",
       "       0.        , 0.        , 0.        , 0.        , 0.        ,\n",
       "       0.        , 0.        , 0.        , 0.        , 0.        ,\n",
       "       0.        , 0.        , 0.        , 0.        , 0.        ,\n",
       "       0.        , 0.        , 0.        , 0.        , 0.        ,\n",
       "       0.        , 0.        , 0.        , 0.        , 0.        ,\n",
       "       0.        , 0.        , 0.        , 0.        , 0.        ,\n",
       "       0.        , 0.        , 0.        , 0.        , 0.        ,\n",
       "       0.        , 0.        , 0.        , 0.        , 0.        ,\n",
       "       0.        , 0.        , 0.        , 0.        , 0.        ,\n",
       "       0.        , 0.        , 0.        , 0.        , 0.        ,\n",
       "       0.        , 0.        , 0.        , 0.        , 0.        ,\n",
       "       0.        , 0.        , 0.        , 0.        , 0.        ,\n",
       "       0.        , 0.        , 0.        , 0.        , 0.        ,\n",
       "       0.        , 0.        , 0.        , 0.        , 0.        ,\n",
       "       0.        , 0.        , 0.        , 0.        , 0.        ,\n",
       "       0.        , 0.        , 0.        , 0.        , 0.        ,\n",
       "       0.        , 0.        , 0.        , 0.        , 0.        ,\n",
       "       0.        , 0.        , 0.        , 0.        , 0.        ,\n",
       "       0.        , 0.        , 0.        , 0.        , 0.        ,\n",
       "       0.        , 0.        , 0.        , 0.        , 0.        ,\n",
       "       0.        , 0.        , 0.        , 0.        , 0.        ,\n",
       "       0.        , 0.        , 0.        , 0.        , 0.        ,\n",
       "       0.        , 0.        , 0.        , 0.        , 0.        ,\n",
       "       0.        , 0.        , 0.        , 0.        , 0.        ,\n",
       "       0.        , 0.        , 0.        , 0.        , 0.        ,\n",
       "       0.        , 0.        , 0.        , 0.        , 0.        ,\n",
       "       0.01176471, 0.00392157, 0.        , 0.        , 0.02745098,\n",
       "       0.        , 0.14509804, 0.        , 0.        , 0.        ,\n",
       "       0.        , 0.        , 0.        , 0.        , 0.        ,\n",
       "       0.        , 0.        , 0.        , 0.        , 0.        ,\n",
       "       0.        , 0.        , 0.00392157, 0.00784314, 0.        ,\n",
       "       0.10588235, 0.32941176, 0.04313725, 0.        , 0.        ,\n",
       "       0.        , 0.        , 0.        , 0.        , 0.46666667,\n",
       "       0.        , 0.        , 0.        , 0.        , 0.        ,\n",
       "       0.        , 0.        , 0.        , 0.        , 0.        ,\n",
       "       0.        , 0.        , 0.        , 0.        , 0.        ,\n",
       "       0.00392157, 0.        , 0.        , 0.34509804, 0.56078431,\n",
       "       0.43137255, 0.        , 0.        , 0.        , 0.        ,\n",
       "       0.08627451, 0.36470588, 0.41568627, 0.        , 0.        ,\n",
       "       0.        , 0.        , 0.        , 0.        , 0.        ,\n",
       "       0.        , 0.        , 0.        , 0.        , 0.        ,\n",
       "       0.        , 0.        , 0.        , 0.01568627, 0.        ,\n",
       "       0.20784314, 0.50588235, 0.47058824, 0.57647059, 0.68627451,\n",
       "       0.61568627, 0.65098039, 0.52941176, 0.60392157, 0.65882353,\n",
       "       0.54901961, 0.        , 0.        , 0.        , 0.        ,\n",
       "       0.        , 0.        , 0.        , 0.        , 0.        ,\n",
       "       0.        , 0.        , 0.        , 0.        , 0.        ,\n",
       "       0.00784314, 0.        , 0.04313725, 0.5372549 , 0.50980392,\n",
       "       0.50196078, 0.62745098, 0.69019608, 0.62352941, 0.65490196,\n",
       "       0.69803922, 0.58431373, 0.59215686, 0.56470588, 0.        ,\n",
       "       0.        , 0.        , 0.        , 0.        , 0.        ,\n",
       "       0.        , 0.        , 0.00392157, 0.        , 0.00784314,\n",
       "       0.00392157, 0.        , 0.01176471, 0.        , 0.        ,\n",
       "       0.45098039, 0.44705882, 0.41568627, 0.5372549 , 0.65882353,\n",
       "       0.6       , 0.61176471, 0.64705882, 0.65490196, 0.56078431,\n",
       "       0.61568627, 0.61960784, 0.04313725, 0.        , 0.        ,\n",
       "       0.        , 0.        , 0.        , 0.00392157, 0.        ,\n",
       "       0.        , 0.        , 0.        , 0.        , 0.01176471,\n",
       "       0.        , 0.        , 0.34901961, 0.54509804, 0.35294118,\n",
       "       0.36862745, 0.6       , 0.58431373, 0.51372549, 0.59215686,\n",
       "       0.6627451 , 0.6745098 , 0.56078431, 0.62352941, 0.6627451 ,\n",
       "       0.18823529, 0.        , 0.        , 0.        , 0.        ,\n",
       "       0.        , 0.        , 0.        , 0.00784314, 0.01568627,\n",
       "       0.00392157, 0.        , 0.        , 0.        , 0.38431373,\n",
       "       0.53333333, 0.43137255, 0.42745098, 0.43137255, 0.63529412,\n",
       "       0.52941176, 0.56470588, 0.58431373, 0.62352941, 0.65490196,\n",
       "       0.56470588, 0.61960784, 0.6627451 , 0.46666667, 0.        ,\n",
       "       0.        , 0.        , 0.00784314, 0.00784314, 0.00392157,\n",
       "       0.00784314, 0.        , 0.        , 0.        , 0.        ,\n",
       "       0.10196078, 0.42352941, 0.45882353, 0.38823529, 0.43529412,\n",
       "       0.45882353, 0.53333333, 0.61176471, 0.5254902 , 0.60392157,\n",
       "       0.60392157, 0.61176471, 0.62745098, 0.55294118, 0.57647059,\n",
       "       0.61176471, 0.69803922, 0.        , 0.01176471, 0.        ,\n",
       "       0.        , 0.        , 0.        , 0.        , 0.        ,\n",
       "       0.08235294, 0.20784314, 0.36078431, 0.45882353, 0.43529412,\n",
       "       0.40392157, 0.45098039, 0.50588235, 0.5254902 , 0.56078431,\n",
       "       0.60392157, 0.64705882, 0.66666667, 0.60392157, 0.59215686,\n",
       "       0.60392157, 0.56078431, 0.54117647, 0.58823529, 0.64705882,\n",
       "       0.16862745, 0.        , 0.        , 0.09019608, 0.21176471,\n",
       "       0.25490196, 0.29803922, 0.33333333, 0.4627451 , 0.50196078,\n",
       "       0.48235294, 0.43529412, 0.44313725, 0.4627451 , 0.49803922,\n",
       "       0.49019608, 0.54509804, 0.52156863, 0.53333333, 0.62745098,\n",
       "       0.54901961, 0.60784314, 0.63137255, 0.56470588, 0.60784314,\n",
       "       0.6745098 , 0.63137255, 0.74117647, 0.24313725, 0.        ,\n",
       "       0.26666667, 0.36862745, 0.35294118, 0.43529412, 0.44705882,\n",
       "       0.43529412, 0.44705882, 0.45098039, 0.49803922, 0.52941176,\n",
       "       0.53333333, 0.56078431, 0.49411765, 0.49803922, 0.59215686,\n",
       "       0.60392157, 0.56078431, 0.58039216, 0.49019608, 0.63529412,\n",
       "       0.63529412, 0.56470588, 0.54117647, 0.6       , 0.63529412,\n",
       "       0.76862745, 0.22745098, 0.2745098 , 0.6627451 , 0.50588235,\n",
       "       0.40784314, 0.38431373, 0.39215686, 0.36862745, 0.38039216,\n",
       "       0.38431373, 0.4       , 0.42352941, 0.41568627, 0.46666667,\n",
       "       0.47058824, 0.50588235, 0.58431373, 0.61176471, 0.65490196,\n",
       "       0.74509804, 0.74509804, 0.76862745, 0.77647059, 0.77647059,\n",
       "       0.73333333, 0.77254902, 0.74117647, 0.72156863, 0.14117647,\n",
       "       0.0627451 , 0.49411765, 0.67058824, 0.7372549 , 0.7372549 ,\n",
       "       0.72156863, 0.67058824, 0.6       , 0.52941176, 0.47058824,\n",
       "       0.49411765, 0.49803922, 0.57254902, 0.7254902 , 0.76470588,\n",
       "       0.81960784, 0.81568627, 1.        , 0.81960784, 0.69411765,\n",
       "       0.96078431, 0.98823529, 0.98431373, 0.98431373, 0.96862745,\n",
       "       0.8627451 , 0.80784314, 0.19215686, 0.        , 0.        ,\n",
       "       0.        , 0.04705882, 0.2627451 , 0.41568627, 0.64313725,\n",
       "       0.7254902 , 0.78039216, 0.82352941, 0.82745098, 0.82352941,\n",
       "       0.81568627, 0.74509804, 0.58823529, 0.32156863, 0.03137255,\n",
       "       0.        , 0.        , 0.        , 0.69803922, 0.81568627,\n",
       "       0.7372549 , 0.68627451, 0.63529412, 0.61960784, 0.59215686,\n",
       "       0.04313725, 0.        , 0.        , 0.        , 0.        ,\n",
       "       0.        , 0.        , 0.        , 0.        , 0.        ,\n",
       "       0.        , 0.        , 0.        , 0.        , 0.        ,\n",
       "       0.        , 0.        , 0.        , 0.        , 0.        ,\n",
       "       0.        , 0.        , 0.        , 0.        , 0.        ,\n",
       "       0.        , 0.        , 0.        , 0.        , 0.        ,\n",
       "       0.        , 0.        , 0.        , 0.        , 0.        ,\n",
       "       0.        , 0.        , 0.        , 0.        , 0.        ,\n",
       "       0.        , 0.        , 0.        , 0.        , 0.        ,\n",
       "       0.        , 0.        , 0.        , 0.        , 0.        ,\n",
       "       0.        , 0.        , 0.        , 0.        , 0.        ,\n",
       "       0.        , 0.        , 0.        , 0.        , 0.        ,\n",
       "       0.        , 0.        , 0.        , 0.        , 0.        ,\n",
       "       0.        , 0.        , 0.        , 0.        , 0.        ,\n",
       "       0.        , 0.        , 0.        , 0.        , 0.        ,\n",
       "       0.        , 0.        , 0.        , 0.        , 0.        ,\n",
       "       0.        , 0.        , 0.        , 0.        , 0.        ,\n",
       "       0.        , 0.        , 0.        , 0.        , 0.        ,\n",
       "       0.        , 0.        , 0.        , 0.        , 0.        ,\n",
       "       0.        , 0.        , 0.        , 0.        , 0.        ,\n",
       "       0.        , 0.        , 0.        , 0.        , 0.        ,\n",
       "       0.        , 0.        , 0.        , 0.        , 0.        ,\n",
       "       0.        , 0.        , 0.        , 0.        , 0.        ,\n",
       "       0.        , 0.        , 0.        , 0.        , 0.        ,\n",
       "       0.        , 0.        , 0.        , 0.        , 0.        ,\n",
       "       0.        , 0.        , 0.        , 0.        , 0.        ,\n",
       "       0.        , 0.        , 0.        , 0.        , 0.        ,\n",
       "       0.        , 0.        , 0.        , 0.        , 0.        ,\n",
       "       0.        , 0.        , 0.        , 0.        , 0.        ,\n",
       "       0.        , 0.        , 0.        , 0.        , 0.        ,\n",
       "       0.        , 0.        , 0.        , 0.        , 0.        ,\n",
       "       0.        , 0.        , 0.        , 0.        , 0.        ,\n",
       "       0.        , 0.        , 0.        , 0.        , 0.        ,\n",
       "       0.        , 0.        , 0.        , 0.        ])"
      ]
     },
     "execution_count": 40,
     "metadata": {},
     "output_type": "execute_result"
    }
   ],
   "source": [
    "test_images_tres_norm[0]"
   ]
  },
  {
   "cell_type": "markdown",
   "metadata": {},
   "source": [
    "## Orden del para el diccionario\n",
    "\n",
    "| Label | Class       |\n",
    "|-------|-------------|\n",
    "| 7     | Sneaker     |\n",
    "| 8     | Bag         |\n",
    "| 9     | Ankle boot  |"
   ]
  },
  {
   "cell_type": "markdown",
   "metadata": {},
   "source": [
    "## one Hot de las labels de entrenamiento "
   ]
  },
  {
   "cell_type": "code",
   "execution_count": 41,
   "metadata": {},
   "outputs": [],
   "source": [
    "grafoonehot_1 = tf.Graph()\n",
    "with grafoonehot_1.as_default():\n",
    "    ## definiendo el vector de nombres de razas como cosntantes\n",
    "    etiquetas_g_1 = tf.constant(train_labels_tres)\n",
    "    \n",
    "    ## aplicando valores unicos\n",
    "    ## la \"y\" da los valores unicos\n",
    "    ## idx indexa cada valor unico haciendo que a lo largo de los\n",
    "    ## datos cada valor unico tenga el mismo indice \n",
    "    yunicos_g_1, idx_g_1 = tf.unique(etiquetas_g_1)\n",
    "    \n",
    "    ## haciendo one hot sobre los indicses idx\n",
    "    ## recordad que no debo poner variables quemadas como el 9\n",
    "    hot_g_1 = tf.one_hot(idx_g_1, depth = 3)\n",
    "    \n",
    "    ## calcula el maximo del indice para comprobar que indexo 120 razas\n",
    "    maximo_g_1 = tf.reduce_max(idx_g_1)"
   ]
  },
  {
   "cell_type": "code",
   "execution_count": 42,
   "metadata": {},
   "outputs": [
    {
     "name": "stdout",
     "output_type": "stream",
     "text": [
      "Unicos [9 7 8]\n",
      "Indices [0 1 0 ... 1 1 2]\n",
      "Codigo one hot [[1. 0. 0.]\n",
      " [0. 1. 0.]\n",
      " [1. 0. 0.]\n",
      " ...\n",
      " [0. 1. 0.]\n",
      " [0. 1. 0.]\n",
      " [0. 0. 1.]]\n"
     ]
    }
   ],
   "source": [
    "with tf.Session(graph = grafoonehot_1 ) as sesiononehot_1:\n",
    "    yunicos_s_1, idx_s_1, hot_s_1, maximo_s_1 = sesiononehot_1.run([yunicos_g_1, idx_g_1, hot_g_1, maximo_g_1])\n",
    "    print(\"Unicos\", yunicos_s_1)\n",
    "    print(\"Indices\", idx_s_1)\n",
    "    print(\"Codigo one hot\", hot_s_1)   "
   ]
  },
  {
   "cell_type": "markdown",
   "metadata": {},
   "source": [
    "## one Hot de las labels de prueba"
   ]
  },
  {
   "cell_type": "code",
   "execution_count": 43,
   "metadata": {},
   "outputs": [],
   "source": [
    "grafoonehot_2 = tf.Graph()\n",
    "with grafoonehot_2.as_default():\n",
    "    ## definiendo el vector de nombres de razas como cosntantes\n",
    "    etiquetas_g_2 = tf.constant(test_labels_tres)\n",
    "    \n",
    "    ## aplicando valores unicos\n",
    "    ## la \"y\" da los valores unicos\n",
    "    ## idx indexa cada valor unico haciendo que a lo largo de los\n",
    "    ## datos cada valor unico tenga el mismo indice \n",
    "    yunicos_g_2, idx_g_2 = tf.unique(etiquetas_g_2)\n",
    "    \n",
    "    ## haciendo one hot sobre los indicses idx\n",
    "    ## recordad que no debo poner variables quemadas como el 9\n",
    "    hot_g_2 = tf.one_hot(idx_g_2, depth = 3)\n",
    "    \n",
    "    ## calcula el maximo del indice para comprobar que indexo 120 razas\n",
    "    maximo_g_2 = tf.reduce_max(idx_g_2)"
   ]
  },
  {
   "cell_type": "code",
   "execution_count": 44,
   "metadata": {},
   "outputs": [
    {
     "name": "stdout",
     "output_type": "stream",
     "text": [
      "Unicos [9 7 8]\n",
      "Indices [0 1 1 ... 0 0 2]\n",
      "Codigo one hot [[1. 0. 0.]\n",
      " [0. 1. 0.]\n",
      " [0. 1. 0.]\n",
      " ...\n",
      " [1. 0. 0.]\n",
      " [1. 0. 0.]\n",
      " [0. 0. 1.]]\n"
     ]
    }
   ],
   "source": [
    "with tf.Session(graph = grafoonehot_2 ) as sesiononehot_2:\n",
    "    yunicos_s_2, idx_s_2, hot_s_2, maximo_s_2 = sesiononehot_2.run([yunicos_g_2, idx_g_2, hot_g_2, maximo_g_2])\n",
    "    print(\"Unicos\", yunicos_s_2)\n",
    "    print(\"Indices\", idx_s_2)\n",
    "    print(\"Codigo one hot\", hot_s_2)"
   ]
  },
  {
   "cell_type": "markdown",
   "metadata": {},
   "source": [
    "## Diccionario"
   ]
  },
  {
   "cell_type": "code",
   "execution_count": 45,
   "metadata": {},
   "outputs": [],
   "source": [
    "diccionario = {0:\"Ankle boot\", 1:\"Sneaker\", 2:\"Bag\"}"
   ]
  },
  {
   "cell_type": "code",
   "execution_count": 46,
   "metadata": {},
   "outputs": [
    {
     "data": {
      "text/plain": [
       "'Ankle boot'"
      ]
     },
     "execution_count": 46,
     "metadata": {},
     "output_type": "execute_result"
    }
   ],
   "source": [
    "diccionario[0]"
   ]
  },
  {
   "cell_type": "code",
   "execution_count": 47,
   "metadata": {},
   "outputs": [
    {
     "data": {
      "text/plain": [
       "'Sneaker'"
      ]
     },
     "execution_count": 47,
     "metadata": {},
     "output_type": "execute_result"
    }
   ],
   "source": [
    "diccionario[1]"
   ]
  },
  {
   "cell_type": "code",
   "execution_count": 48,
   "metadata": {},
   "outputs": [
    {
     "data": {
      "text/plain": [
       "'Bag'"
      ]
     },
     "execution_count": 48,
     "metadata": {},
     "output_type": "execute_result"
    }
   ],
   "source": [
    "diccionario[2]"
   ]
  },
  {
   "cell_type": "markdown",
   "metadata": {},
   "source": [
    "## hiperparametros"
   ]
  },
  {
   "cell_type": "code",
   "execution_count": 49,
   "metadata": {},
   "outputs": [],
   "source": [
    "lr = 0.01\n",
    "epochs = 10\n",
    "batch_size = 32\n",
    "batches = int(train_images_tres_norm.shape[0] / batch_size)"
   ]
  },
  {
   "cell_type": "markdown",
   "metadata": {},
   "source": [
    "## Grafo de softmax datos normalizados "
   ]
  },
  {
   "cell_type": "code",
   "execution_count": 50,
   "metadata": {},
   "outputs": [],
   "source": [
    "grafosftmax = tf.Graph()\n",
    "with grafosftmax.as_default():\n",
    "    \n",
    "    with tf.name_scope(\"Declaring_placeholder\"):    \n",
    "        ## definiendo las X, 784 es el valor pues 784 son las x features luego del reshape \n",
    "        X = tf.placeholder(tf.float32, [None,784], name=\"X\")\n",
    "    \n",
    "        ## definiendo las Y, 3 es el valor pues tres son las categorias\n",
    "        Y = tf.placeholder(tf.float32, [None,3], name=\"Y\")\n",
    "    \n",
    "        # estableciendo el learning rate placeholder\n",
    "        ph_lr = tf.placeholder(dtype = tf.float64, name=\"LR\")\n",
    "    \n",
    "    with tf.name_scope(\"Declaring_variables\"):\n",
    "        ## Matriz de parametros \n",
    "        W = tf.Variable(tf.zeros([784,3]), name = \"W\")\n",
    "    \n",
    "        ## Vector bias o de termino independiente\n",
    "        B = tf.Variable(tf.zeros([3]), name = \"B\")\n",
    "    \n",
    "    with tf.name_scope(\"hipotesis\"):   \n",
    "        ## caculando los logits\n",
    "        logits_g = tf.add(tf.matmul(X, W, name=\"hipotesis_producto_punto\"), B, name=\"hipotesis_sumar_B\")\n",
    "    \n",
    "    ## obteniendo las yhat pasando los logits por softmax\n",
    "        yhat_g = tf.nn.softmax(logits_g, name=\"hipotesis_softmax\")\n",
    "    \n",
    "    with tf.name_scope(\"funcion_costo\"):\n",
    "        # calculando la fucion de costo con la entropia cruzada\n",
    "        cost_g = (tf.reduce_mean(-tf.reduce_sum(Y * tf.log(yhat_g), axis = 1)))\n",
    "    \n",
    "    with tf.name_scope(\"Gradient_Des.Optimizer\"):\n",
    "        cost_summary_g = tf.summary.scalar(name = \"cost\", tensor = cost_g)\n",
    "                \n",
    "        ## gradient descent para optimizar un nodo mas del grafo\n",
    "        optimizacion = tf.train.GradientDescentOptimizer(ph_lr).minimize(cost_g)\n",
    "    \n",
    "    correct_prediction = tf.equal(tf.argmax(yhat_g,1), tf.argmax(Y,1))\n",
    "    accuracy = tf.reduce_mean(tf.cast(correct_prediction, tf.float32)) ##media de los aciertos me da el accuracy\n",
    "    \n",
    "    accuracy_summary_g = tf.summary.scalar(\"accuracy\",accuracy)\n",
    "    \n",
    "    summaries_g = tf.summary.merge_all()# agrupa todos los summaries que me interesen en tensorboard"
   ]
  },
  {
   "cell_type": "code",
   "execution_count": 51,
   "metadata": {},
   "outputs": [
    {
     "name": "stdout",
     "output_type": "stream",
     "text": [
      "Initialized\n",
      "Iteracion: 0 Costo: 0.23246598\n",
      "Iteracion: 1 Costo: 0.32615554\n",
      "Iteracion: 2 Costo: 0.21926966\n",
      "Iteracion: 3 Costo: 0.2562553\n",
      "Iteracion: 4 Costo: 0.1804927\n",
      "Iteracion: 5 Costo: 0.23633559\n",
      "Iteracion: 6 Costo: 0.1635485\n",
      "Iteracion: 7 Costo: 0.12962434\n",
      "Iteracion: 8 Costo: 0.2988462\n",
      "Iteracion: 9 Costo: 0.18090716\n",
      "Accuracy 0.90625\n"
     ]
    }
   ],
   "source": [
    "with tf.Session(graph = grafosftmax) as session:\n",
    "    # incializando variables\n",
    "    tf.global_variables_initializer().run()\n",
    "    print('Initialized')\n",
    "    \n",
    "    ## creo carpeta donde se guardara la variable de tensorboard\n",
    "    writer = tf.summary.FileWriter('./graphs1', session.graph)\n",
    "    \n",
    "    for epoch in range(epochs):\n",
    "        for i in range(batches):\n",
    "            offset = i * epoch \n",
    "            x = train_images_tres_norm[offset: offset + batch_size] ## slicing de filas\n",
    "            y = hot_s_1[offset: offset + batch_size] ## slicing de filas\n",
    "            _,final_W,final_B,ac = session.run([optimizacion,W,B,accuracy], feed_dict={X:x, Y:y, ph_lr:0.001})\n",
    "            cost_s = session.run(cost_g, feed_dict={X:x, Y:y})\n",
    "            \n",
    "            ## sesion que ejecuta el nodo del escalar para tensorboard\n",
    "            #cost_summary_s = session.run(cost_summary_g, feed_dict={X:x, Y:y, ph_lr:0.001})\n",
    "            #cost_summary_s = session.run(cost_summary_g)\n",
    "            #writer.add_summary(cost_summary_s, i)\n",
    "            \n",
    "            summaries_s = session.run(summaries_g, feed_dict={X:x, Y:y, ph_lr:0.001})\n",
    "            #cost_summary_s = session.run(cost_summary_g)\n",
    "            writer.add_summary(summaries_s, i)\n",
    "                                   \n",
    "        if (epoch % 1 == 0):\n",
    "            print(\"Iteracion:\", epoch, \"Costo:\", cost_s)\n",
    "        \n",
    "        writer.close()\n",
    "        \n",
    "    print(\"Accuracy\", ac)\n",
    "    \n",
    "    \n",
    "    \n",
    "    \n",
    "    #fig, axes = plt.subplots(1,5, figsize = (8,4))\n",
    "    #for img, ax in zip (test_images_tres_norm[:5], axes):\n",
    "        #guess = diccionario[np.argmax(session.run(yhat_g, feed_dict={X:[img]}))]## se pasan los datos de etrenamiento por la yhat\n",
    "        #ax.set_title(guess)\n",
    "        #ax.imshow(img.reshape((28,28)))\n",
    "        #ax.axis('off')\n",
    "    ## summaries = tf.summary.merge_all() # agrupa todos lso summaries que me interesen en tensorboard"
   ]
  },
  {
   "cell_type": "markdown",
   "metadata": {},
   "source": [
    "## Representación del grafo\n",
    "<img src=\"grafo1softmax.JPG\">"
   ]
  },
  {
   "cell_type": "markdown",
   "metadata": {},
   "source": [
    "## Gráfica error y el accuracy\n",
    "\n",
    "<img src=\"errorprecision1.JPG\">"
   ]
  },
  {
   "cell_type": "code",
   "execution_count": 52,
   "metadata": {},
   "outputs": [
    {
     "name": "stdout",
     "output_type": "stream",
     "text": [
      "<class 'bytes'>\n"
     ]
    }
   ],
   "source": [
    "print(type(summaries_s))"
   ]
  },
  {
   "cell_type": "code",
   "execution_count": 53,
   "metadata": {},
   "outputs": [
    {
     "name": "stdout",
     "output_type": "stream",
     "text": [
      "b'\\n\"\\n\\x1bGradient_Des.Optimizer/cost\\x15\\xba?9>\\n\\x0f\\n\\x08accuracy\\x15\\x00\\x00h?'\n"
     ]
    }
   ],
   "source": [
    "print(summaries_s)"
   ]
  },
  {
   "cell_type": "code",
   "execution_count": 54,
   "metadata": {},
   "outputs": [],
   "source": [
    "## Pruebas de lr 10, 1, 0.1, 0.01, 0.001 (aca converge)"
   ]
  },
  {
   "cell_type": "code",
   "execution_count": 55,
   "metadata": {},
   "outputs": [
    {
     "name": "stdout",
     "output_type": "stream",
     "text": [
      "(784, 3)\n"
     ]
    }
   ],
   "source": [
    "print(final_W.shape)\n",
    "\n"
   ]
  },
  {
   "cell_type": "code",
   "execution_count": 56,
   "metadata": {},
   "outputs": [
    {
     "name": "stdout",
     "output_type": "stream",
     "text": [
      "(3,)\n"
     ]
    }
   ],
   "source": [
    "print(final_B.shape)"
   ]
  },
  {
   "cell_type": "markdown",
   "metadata": {},
   "source": [
    "## Funcion para predecir"
   ]
  },
  {
   "cell_type": "code",
   "execution_count": 57,
   "metadata": {},
   "outputs": [],
   "source": [
    "def predecir(X_eval,W_eval,B_eval):\n",
    "    logits_eval = np.matmul(X_eval,W_eval) + B_eval ## multiplicacion matricial mas parametro \n",
    "    softmax = np.exp(logits_eval)/np.sum(np.exp(logits_eval), axis = 1, keepdims = True) ## se aplica la ecuación de softmax que sume sobre el eje 1 y que mantenga la dimesion \n",
    "    \n",
    "    plt.figure(figsize=(5,10))\n",
    "    plt.imshow(X_eval.reshape(28,28), cmap='viridis')\n",
    "    plt.xlabel(diccionario[np.argmax(softmax)])\n",
    "    plt.title('Probabilidad')\n",
    "    plt.title(np.max(softmax,axis=1))\n",
    "    plt.show()\n",
    "    \n",
    "    return softmax ## este solo devolvera el vector de probabilidad que suma uno, proba bloqueando con # las filas de graficacion"
   ]
  },
  {
   "cell_type": "markdown",
   "metadata": {},
   "source": [
    "## Predcción de datos normalizados "
   ]
  },
  {
   "cell_type": "markdown",
   "metadata": {},
   "source": [
    "## Predicción imagen 1"
   ]
  },
  {
   "cell_type": "code",
   "execution_count": 74,
   "metadata": {},
   "outputs": [
    {
     "name": "stderr",
     "output_type": "stream",
     "text": [
      "C:\\Users\\Johnatan\\Anaconda3\\lib\\site-packages\\matplotlib\\text.py:1191: FutureWarning: elementwise comparison failed; returning scalar instead, but in the future will perform elementwise comparison\n",
      "  if s != self._text:\n"
     ]
    },
    {
     "data": {
      "image/png": "[encoded data removed]",
      "text/plain": [
       "<Figure size 360x720 with 1 Axes>"
      ]
     },
     "metadata": {},
     "output_type": "display_data"
    },
    {
     "data": {
      "text/plain": [
       "array([[0.06134433, 0.03158379, 0.90707188]])"
      ]
     },
     "execution_count": 74,
     "metadata": {},
     "output_type": "execute_result"
    }
   ],
   "source": [
    "## al darle el valor de X_eval a la fucion se le da forma de matriz de 1 por 784 para que pueda\n",
    "## hacer la multiplicaion matricial \n",
    "## si no la pasara como un vector y asi no hara la operacion \n",
    "## np.random.randint (0, 2999) genera un numero aleatorio entre uno y tres mil que es el tamaño del data set\n",
    "\n",
    "prediccion_1 = predecir(test_images_tres_norm[np.random.randint(0,2999)].reshape(1,784),final_W,final_B)\n",
    "prediccion_1"
   ]
  },
  {
   "cell_type": "markdown",
   "metadata": {},
   "source": [
    "## Predicción imagen 2"
   ]
  },
  {
   "cell_type": "code",
   "execution_count": 59,
   "metadata": {},
   "outputs": [
    {
     "name": "stderr",
     "output_type": "stream",
     "text": [
      "C:\\Users\\Johnatan\\Anaconda3\\lib\\site-packages\\matplotlib\\text.py:1191: FutureWarning: elementwise comparison failed; returning scalar instead, but in the future will perform elementwise comparison\n",
      "  if s != self._text:\n"
     ]
    },
    {
     "data": {
      "image/png": "[encoded data removed]",
      "text/plain": [
       "<Figure size 360x720 with 1 Axes>"
      ]
     },
     "metadata": {},
     "output_type": "display_data"
    },
    {
     "data": {
      "text/plain": [
       "array([[0.51325241, 0.32469428, 0.16205331]])"
      ]
     },
     "execution_count": 59,
     "metadata": {},
     "output_type": "execute_result"
    }
   ],
   "source": [
    "## al darle el valor de X_eval a la fucion se le da forma de matriz de 1 por 784 para que pueda\n",
    "## hacer la multiplicaion matricial\n",
    "## np.random.randint (0, 2999) genera un numero aleatorio entre uno y tres mil que es el tamaño del data set\n",
    "\n",
    "prediccion_2 = predecir(test_images_tres_norm[np.random.randint(0,2999)].reshape(1,784),final_W,final_B)\n",
    "prediccion_2"
   ]
  },
  {
   "cell_type": "markdown",
   "metadata": {},
   "source": [
    "## Predicción imagen 3"
   ]
  },
  {
   "cell_type": "code",
   "execution_count": 60,
   "metadata": {},
   "outputs": [
    {
     "name": "stderr",
     "output_type": "stream",
     "text": [
      "C:\\Users\\Johnatan\\Anaconda3\\lib\\site-packages\\matplotlib\\text.py:1191: FutureWarning: elementwise comparison failed; returning scalar instead, but in the future will perform elementwise comparison\n",
      "  if s != self._text:\n"
     ]
    },
    {
     "data": {
      "image/png": "[encoded data removed]",
      "text/plain": [
       "<Figure size 360x720 with 1 Axes>"
      ]
     },
     "metadata": {},
     "output_type": "display_data"
    },
    {
     "data": {
      "text/plain": [
       "array([[0.93898685, 0.04955768, 0.01145547]])"
      ]
     },
     "execution_count": 60,
     "metadata": {},
     "output_type": "execute_result"
    }
   ],
   "source": [
    "## al darle el valor de X_eval a la fucion se le da forma de matriz de 1 por 784 para que pueda\n",
    "## hacer la multiplicaion matricial \n",
    "## np.random.randint(1,3000) genera un numero aleatorio entre uno y tres mil que es el tamaño del data set\n",
    "\n",
    "prediccion_3 = predecir(test_images_tres_norm[np.random.randint(0,2999)].reshape(1,784),final_W,final_B)\n",
    "prediccion_3"
   ]
  },
  {
   "cell_type": "markdown",
   "metadata": {},
   "source": [
    "## Predicción imagen 4"
   ]
  },
  {
   "cell_type": "code",
   "execution_count": 61,
   "metadata": {},
   "outputs": [
    {
     "name": "stderr",
     "output_type": "stream",
     "text": [
      "C:\\Users\\Johnatan\\Anaconda3\\lib\\site-packages\\matplotlib\\text.py:1191: FutureWarning: elementwise comparison failed; returning scalar instead, but in the future will perform elementwise comparison\n",
      "  if s != self._text:\n"
     ]
    },
    {
     "data": {
      "image/png": "[encoded data removed]",
      "text/plain": [
       "<Figure size 360x720 with 1 Axes>"
      ]
     },
     "metadata": {},
     "output_type": "display_data"
    },
    {
     "data": {
      "text/plain": [
       "array([[0.00358003, 0.99085301, 0.00556696]])"
      ]
     },
     "execution_count": 61,
     "metadata": {},
     "output_type": "execute_result"
    }
   ],
   "source": [
    "## al darle el valor de X_eval a la fucion se le da forma de matriz de 1 por 784 para que pueda\n",
    "## hacer la multiplicaion matricial \n",
    "\n",
    "prediccion_4 = predecir(test_images_tres_norm[np.random.randint(0,2999)].reshape(1,784),final_W,final_B)\n",
    "prediccion_4"
   ]
  },
  {
   "cell_type": "markdown",
   "metadata": {},
   "source": [
    "## Predicción imagen 5"
   ]
  },
  {
   "cell_type": "code",
   "execution_count": 62,
   "metadata": {},
   "outputs": [
    {
     "name": "stderr",
     "output_type": "stream",
     "text": [
      "C:\\Users\\Johnatan\\Anaconda3\\lib\\site-packages\\matplotlib\\text.py:1191: FutureWarning: elementwise comparison failed; returning scalar instead, but in the future will perform elementwise comparison\n",
      "  if s != self._text:\n"
     ]
    },
    {
     "data": {
      "image/png": "[encoded data removed]",
      "text/plain": [
       "<Figure size 360x720 with 1 Axes>"
      ]
     },
     "metadata": {},
     "output_type": "display_data"
    },
    {
     "data": {
      "text/plain": [
       "array([[0.03951858, 0.85896754, 0.10151388]])"
      ]
     },
     "execution_count": 62,
     "metadata": {},
     "output_type": "execute_result"
    }
   ],
   "source": [
    "## al darle el valor de X_eval a la fucion se le da forma de matriz de 1 por 784 para que pueda\n",
    "## hacer la multiplicaion matricial \n",
    "\n",
    "prediccion_5 = predecir(test_images_tres_norm[np.random.randint(0,2999)].reshape(1,784),final_W,final_B)\n",
    "prediccion_5"
   ]
  },
  {
   "cell_type": "markdown",
   "metadata": {},
   "source": [
    "## hiperparametros"
   ]
  },
  {
   "cell_type": "code",
   "execution_count": 63,
   "metadata": {},
   "outputs": [],
   "source": [
    "##lrr = 0.01\n",
    "epochss = 10\n",
    "batch_sizee = 32\n",
    "batchess = int(train_images_tres_rsh.shape[0] / batch_sizee)"
   ]
  },
  {
   "cell_type": "markdown",
   "metadata": {},
   "source": [
    "## Grafo de softmax datos crudos  "
   ]
  },
  {
   "cell_type": "code",
   "execution_count": 64,
   "metadata": {},
   "outputs": [],
   "source": [
    "grafosftmaxC = tf.Graph()\n",
    "with grafosftmaxC.as_default():\n",
    "    \n",
    "    with tf.name_scope(\"Declaring_placeholder\"):    \n",
    "        ## definiendo las X, 784 es el valor pues 784 son las x features luego del reshape \n",
    "        X = tf.placeholder(tf.float32, [None,784], name=\"X\")\n",
    "    \n",
    "        ## definiendo las Y, 3 es el valor pues tres son las categorias o prendas a predecir \n",
    "        Y = tf.placeholder(tf.float32, [None,3], name=\"Y\")\n",
    "    \n",
    "        # estableciendo el learning rate placeholder\n",
    "        ph_lr = tf.placeholder(dtype = tf.float64, name=\"lr\")\n",
    "    \n",
    "    with tf.name_scope(\"Declaring_variables\"):\n",
    "        ## Matriz de parametros \n",
    "        W = tf.Variable(tf.zeros([784,3]),name=\"W\")\n",
    "    \n",
    "        ## Vector bias o de termino independiente\n",
    "        B = tf.Variable(tf.zeros([3]), name=\"B\")\n",
    "    \n",
    "    with tf.name_scope(\"hipotesis\"):   \n",
    "        ## caculando los logits\n",
    "        logits_g = tf.add(tf.matmul(X, W, name=\"hipotesis_producto_punto\"), B, name=\"hipotesis_sumar_B\")\n",
    "    \n",
    "    ## obteniendo las yhat pasando los logits por softmax\n",
    "        yhat_g = tf.nn.softmax(logits_g, name=\"hipotesis_softmax\")\n",
    "    \n",
    "    with tf.name_scope(\"funcion_costo\"):\n",
    "        # calculando la fucion de costo con la entropia cruzada\n",
    "        cost_g = (tf.reduce_mean(-tf.reduce_sum(Y * tf.log(yhat_g), axis = 1)))\n",
    "    \n",
    "    with tf.name_scope(\"Gradient_Des.Optimizer\"):\n",
    "        cost_summary_gg = tf.summary.scalar(\"cost\",cost_g)\n",
    "        \n",
    "        ## gradient descent para optimizar un nodo mas del grafo\n",
    "        optimizacion = tf.train.GradientDescentOptimizer(ph_lr).minimize(cost_g)\n",
    "    \n",
    "    correct_prediction = tf.equal(tf.argmax(yhat_g,1), tf.argmax(Y,1))\n",
    "    accuracy = tf.reduce_mean(tf.cast(correct_prediction, tf.float32)) ##media de los aciertos me da el accuracy\n",
    "    \n",
    "    accuracy_summary_gg = tf.summary.scalar(\"accuracy\",accuracy)\n",
    "    \n",
    "    summaries_gg = tf.summary.merge_all() # agrupa todos los summaries que me interesen en tensorboard\n",
    "    "
   ]
  },
  {
   "cell_type": "code",
   "execution_count": 65,
   "metadata": {},
   "outputs": [
    {
     "name": "stdout",
     "output_type": "stream",
     "text": [
      "Initialized\n",
      "Iteracion: 0 . Costo: 0.00026686504\n",
      "Iteracion: 1 . Costo: 0.409999\n",
      "Iteracion: 2 . Costo: 0.008254944\n",
      "Iteracion: 3 . Costo: 0.03639851\n",
      "Iteracion: 4 . Costo: 0.009760195\n",
      "Iteracion: 5 . Costo: 0.056510955\n",
      "Iteracion: 6 . Costo: 0.0033073504\n",
      "Iteracion: 7 . Costo: 0.0034905\n",
      "Iteracion: 8 . Costo: 0.13155822\n",
      "Iteracion: 9 . Costo: 0.047384486\n",
      "Accuracy 0.96875\n"
     ]
    }
   ],
   "source": [
    "with tf.Session(graph = grafosftmaxC) as sessionC:\n",
    "    # incializando variables\n",
    "    tf.global_variables_initializer().run()\n",
    "    print('Initialized')\n",
    "    \n",
    "    ## creo carpeta donde se guardara la variable de tensorboard\n",
    "    writer = tf.summary.FileWriter('./graphs2', sessionC.graph)\n",
    "    \n",
    "    for epoch in range(epochss):\n",
    "        for i in range(batchess):\n",
    "            offset = i * epoch \n",
    "            x = train_images_tres_rsh[offset: offset + batch_sizee] ## slicing de filas en los datos crudos \n",
    "            y = hot_s_1[offset: offset + batch_sizee] ## slicing de filas de las labels del one hot\n",
    "            __,final_WW,final_BB,acc = sessionC.run([optimizacion,W,B,accuracy], feed_dict={X:x, Y:y, ph_lr:0.00001})\n",
    "            cost_ss = sessionC.run(cost_g, feed_dict={X:x, Y:y})\n",
    "            \n",
    "            ## sesion que ejecuta el nodo del escalar para tensorboard\n",
    "            summaries_ss = sessionC.run(summaries_gg, feed_dict={X:x, Y:y, ph_lr:0.001})\n",
    "            writer.add_summary(summaries_ss, i)\n",
    "        \n",
    "        if (epoch % 1 == 0):\n",
    "            print(\"Iteracion:\", epoch, \". Costo:\", cost_ss)\n",
    "        \n",
    "        writer.close()\n",
    "      \n",
    "    print(\"Accuracy\", acc)\n",
    "    \n",
    "    \n",
    "    #fig, axes = plt.subplots(1,5, figsize = (8,4))\n",
    "    #for img, ax in zip (test_images_tres_rsh[:5], axes):\n",
    "        #guess = diccionario[np.argmax(sessionC.run(yhat_g, feed_dict={X:[img]}))]## se pasan los datos de etrenamiento por la yhat\n",
    "        #ax.set_title(guess)\n",
    "        #ax.imshow(img.reshape((28,28)))\n",
    "        #ax.axis('off')\n",
    "    ## summaries = tf.summary.merge_all() # agrupa todos lso summaries que me interesen en tensorboard\n",
    "            \n",
    "           #writer.close()"
   ]
  },
  {
   "cell_type": "markdown",
   "metadata": {},
   "source": [
    "## Representación del grafo \n",
    "\n",
    "<img src=\"grafo2softmax.JPG\">"
   ]
  },
  {
   "cell_type": "markdown",
   "metadata": {},
   "source": [
    "## Gráfica error y el accuracy\n",
    "\n",
    "<img src=\"errorprecision2.JPG\">"
   ]
  },
  {
   "cell_type": "code",
   "execution_count": 66,
   "metadata": {},
   "outputs": [],
   "source": [
    "## Pruebas de lr 10, 1, 0.1, 0.01, 0.001, 0.0001, 0.00001 (aca converge)"
   ]
  },
  {
   "cell_type": "code",
   "execution_count": 67,
   "metadata": {},
   "outputs": [
    {
     "name": "stdout",
     "output_type": "stream",
     "text": [
      "(784, 3)\n"
     ]
    }
   ],
   "source": [
    "print(final_WW.shape)\n",
    "\n"
   ]
  },
  {
   "cell_type": "code",
   "execution_count": 68,
   "metadata": {},
   "outputs": [
    {
     "name": "stdout",
     "output_type": "stream",
     "text": [
      "(3,)\n"
     ]
    }
   ],
   "source": [
    "print(final_BB.shape)"
   ]
  },
  {
   "cell_type": "markdown",
   "metadata": {},
   "source": [
    "## Predcción de datos crudos"
   ]
  },
  {
   "cell_type": "markdown",
   "metadata": {},
   "source": [
    "## Predicción imagen 6"
   ]
  },
  {
   "cell_type": "code",
   "execution_count": 69,
   "metadata": {},
   "outputs": [
    {
     "name": "stderr",
     "output_type": "stream",
     "text": [
      "C:\\Users\\Johnatan\\Anaconda3\\lib\\site-packages\\matplotlib\\text.py:1191: FutureWarning: elementwise comparison failed; returning scalar instead, but in the future will perform elementwise comparison\n",
      "  if s != self._text:\n"
     ]
    },
    {
     "data": {
      "image/png": "[encoded data removed]",
      "text/plain": [
       "<Figure size 360x720 with 1 Axes>"
      ]
     },
     "metadata": {},
     "output_type": "display_data"
    },
    {
     "data": {
      "text/plain": [
       "array([[1.0000000e+00, 2.2649738e-11, 1.9808304e-12]], dtype=float32)"
      ]
     },
     "execution_count": 69,
     "metadata": {},
     "output_type": "execute_result"
    }
   ],
   "source": [
    "## al darle el valor de X_eval a la fucion se le da forma de matriz de 1 por 784 para que pueda\n",
    "## hacer la multiplicaion matricial \n",
    "## si no la pasara como un vector y asi no hara la operacion \n",
    "prediccion_6 = predecir(test_images_tres_rsh[np.random.randint(0,2999)].reshape(1,784),final_WW,final_BB)\n",
    "prediccion_6"
   ]
  },
  {
   "cell_type": "markdown",
   "metadata": {},
   "source": [
    "## Predicción imagen 7"
   ]
  },
  {
   "cell_type": "code",
   "execution_count": 70,
   "metadata": {},
   "outputs": [
    {
     "name": "stderr",
     "output_type": "stream",
     "text": [
      "C:\\Users\\Johnatan\\Anaconda3\\lib\\site-packages\\matplotlib\\text.py:1191: FutureWarning: elementwise comparison failed; returning scalar instead, but in the future will perform elementwise comparison\n",
      "  if s != self._text:\n"
     ]
    },
    {
     "data": {
      "image/png": "[encoded data removed]",
      "text/plain": [
       "<Figure size 360x720 with 1 Axes>"
      ]
     },
     "metadata": {},
     "output_type": "display_data"
    },
    {
     "data": {
      "text/plain": [
       "array([[2.5915160e-06, 9.9999511e-01, 2.3263487e-06]], dtype=float32)"
      ]
     },
     "execution_count": 70,
     "metadata": {},
     "output_type": "execute_result"
    }
   ],
   "source": [
    "## al darle el valor de X_eval a la fucion se le da forma de matriz de 1 por 784 para que pueda\n",
    "## hacer la multiplicaion matricial \n",
    "\n",
    "prediccion_7 = predecir(test_images_tres_rsh[np.random.randint(0,2999)].reshape(1,784),final_WW,final_BB)\n",
    "prediccion_7"
   ]
  },
  {
   "cell_type": "markdown",
   "metadata": {},
   "source": [
    "## Predicción imagen 8"
   ]
  },
  {
   "cell_type": "code",
   "execution_count": 71,
   "metadata": {},
   "outputs": [
    {
     "name": "stderr",
     "output_type": "stream",
     "text": [
      "C:\\Users\\Johnatan\\Anaconda3\\lib\\site-packages\\matplotlib\\text.py:1191: FutureWarning: elementwise comparison failed; returning scalar instead, but in the future will perform elementwise comparison\n",
      "  if s != self._text:\n"
     ]
    },
    {
     "data": {
      "image/png": "[encoded data removed]",
      "text/plain": [
       "<Figure size 360x720 with 1 Axes>"
      ]
     },
     "metadata": {},
     "output_type": "display_data"
    },
    {
     "data": {
      "text/plain": [
       "array([[9.8215079e-01, 1.7848311e-02, 9.1459026e-07]], dtype=float32)"
      ]
     },
     "execution_count": 71,
     "metadata": {},
     "output_type": "execute_result"
    }
   ],
   "source": [
    "## al darle el valor de X_eval a la fucion se le da forma de matriz de 1 por 784 para que pueda\n",
    "## hacer la multiplicaion matricial \n",
    "\n",
    "prediccion_8 = predecir(test_images_tres_rsh[np.random.randint(0,2999)].reshape(1,784),final_WW,final_BB)\n",
    "prediccion_8"
   ]
  },
  {
   "cell_type": "markdown",
   "metadata": {},
   "source": [
    "## Predicción imagen 9"
   ]
  },
  {
   "cell_type": "code",
   "execution_count": 72,
   "metadata": {},
   "outputs": [
    {
     "name": "stderr",
     "output_type": "stream",
     "text": [
      "C:\\Users\\Johnatan\\Anaconda3\\lib\\site-packages\\matplotlib\\text.py:1191: FutureWarning: elementwise comparison failed; returning scalar instead, but in the future will perform elementwise comparison\n",
      "  if s != self._text:\n"
     ]
    },
    {
     "data": {
      "image/png": "[encoded data removed]",
      "text/plain": [
       "<Figure size 360x720 with 1 Axes>"
      ]
     },
     "metadata": {},
     "output_type": "display_data"
    },
    {
     "data": {
      "text/plain": [
       "array([[5.9912431e-08, 9.9999547e-01, 4.4720596e-06]], dtype=float32)"
      ]
     },
     "execution_count": 72,
     "metadata": {},
     "output_type": "execute_result"
    }
   ],
   "source": [
    "## al darle el valor de X_eval a la fucion se le da forma de matriz de 1 por 784 para que pueda\n",
    "## hacer la multiplicaion matricial \n",
    "\n",
    "prediccion_9 = predecir(test_images_tres_rsh[np.random.randint(0,2999)].reshape(1,784),final_WW,final_BB)\n",
    "prediccion_9"
   ]
  },
  {
   "cell_type": "markdown",
   "metadata": {},
   "source": [
    "## Predicción imagen 10"
   ]
  },
  {
   "cell_type": "code",
   "execution_count": 73,
   "metadata": {},
   "outputs": [
    {
     "name": "stderr",
     "output_type": "stream",
     "text": [
      "C:\\Users\\Johnatan\\Anaconda3\\lib\\site-packages\\matplotlib\\text.py:1191: FutureWarning: elementwise comparison failed; returning scalar instead, but in the future will perform elementwise comparison\n",
      "  if s != self._text:\n"
     ]
    },
    {
     "data": {
      "image/png": "[encoded data removed]",
      "text/plain": [
       "<Figure size 360x720 with 1 Axes>"
      ]
     },
     "metadata": {},
     "output_type": "display_data"
    },
    {
     "data": {
      "text/plain": [
       "array([[1.06727725e-07, 9.34193025e-08, 9.99999821e-01]], dtype=float32)"
      ]
     },
     "execution_count": 73,
     "metadata": {},
     "output_type": "execute_result"
    }
   ],
   "source": [
    "## al darle el valor de X_eval a la fucion se le da forma de matriz de 1 por 784 para que pueda\n",
    "## hacer la multiplicaion matricial \n",
    "\n",
    "prediccion_10 = predecir(test_images_tres_rsh[np.random.randint(0,2999)].reshape(1,784),final_WW,final_BB)\n",
    "prediccion_10"
   ]
  },
  {
   "cell_type": "markdown",
   "metadata": {},
   "source": [
    "## CONCLUSIÓN "
   ]
  },
  {
   "cell_type": "markdown",
   "metadata": {},
   "source": [
    "### El modelo con datos normalizados converge con un lr = 0.001\n",
    "### El modelo con datos crudos converge con un lr =  0.00001 \n",
    "\n",
    "### Los pasos que da el modelo con datos crudos son más pequeños en relación con los pasos que da el modelo con datos normalizados \n",
    "\n",
    "### El modelo con datos normalizados converge más rápido, esto confirma lo visto en clase, en la cual se explico que el normalizado era darle una ayuda al modelo para que convergiera má rápido. \n",
    "### El modelo con datos crudos converge, sin embargo se tarda en converger\n",
    "\n",
    "### Algo que es curioso es que la probablidad de predicción de la prenda es mayor en el modelo con datos crudos\n",
    "### En comparacion con la probabilidad de prediccón de la prenda con datos normalizados la cual es un poco menor \n",
    "\n",
    "### En relacion conel parrafor enterior podriamos estar hablando de un sobre ajutste del modelo en los datos de prueba ya que al correr predicciones con imagenes aleatorias se observaban probabilidades con valores de 1."
   ]
  },
  {
   "cell_type": "code",
   "execution_count": 74,
   "metadata": {},
   "outputs": [
    {
     "name": "stdout",
     "output_type": "stream",
     "text": [
      "(3000, 784)\n",
      "2\n"
     ]
    }
   ],
   "source": [
    "print(test_images_tres_norm.shape)\n",
    "print(test_images_tres_norm.ndim)"
   ]
  },
  {
   "cell_type": "code",
   "execution_count": null,
   "metadata": {},
   "outputs": [],
   "source": []
  },
  {
   "cell_type": "code",
   "execution_count": 79,
   "metadata": {},
   "outputs": [
    {
     "name": "stdout",
     "output_type": "stream",
     "text": [
      "(1, 784)\n"
     ]
    }
   ],
   "source": [
    "print(test_images_tres_norm[1].reshape(1,784).shape)"
   ]
  },
  {
   "cell_type": "code",
   "execution_count": null,
   "metadata": {},
   "outputs": [],
   "source": [
    "    fig = plt.figure(figsize=(15,10))\n",
    "        \n",
    "    for i in range(1,tope):\n",
    "        \n",
    "        elementos2 = diccionario[i] ## sacando los parametro m y b del diccionario, se empieza en uno por que a partir de ahi estan las m y b\n",
    "        ejey = np.matmul(elementos1,elementos2) ## calculo de la yhat\n",
    "                \n",
    "        ax7 = fig.add_subplot(4,5,i) #creamos un canvas con  1 fila, 1 columna y devolvemos una referencia a la primera grafica\n",
    "        ax7.plot(ejex, ejey, color=\"black\") # tambien se pudo usar \"green\" en lugar de el abreviado \"g\"\n",
    "\n",
    "        ax7.set_xlabel('x'+str(i))\n",
    "        ax7.set_ylabel('y')\n",
    "        ax7.set_title('Grafica X-Y')\n",
    "                \n",
    "    plt.tight_layout()"
   ]
  }
 ],
 "metadata": {
  "kernelspec": {
   "display_name": "Python 3",
   "language": "python",
   "name": "python3"
  },
  "language_info": {
   "codemirror_mode": {
    "name": "ipython",
    "version": 3
   },
   "file_extension": ".py",
   "mimetype": "text/x-python",
   "name": "python",
   "nbconvert_exporter": "python",
   "pygments_lexer": "ipython3",
   "version": "3.6.5"
  }
 },
 "nbformat": 4,
 "nbformat_minor": 2
}
