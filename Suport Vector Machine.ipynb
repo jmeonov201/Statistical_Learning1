{
 "cells": [
  {
   "cell_type": "markdown",
   "metadata": {},
   "source": [
    "# Grupo: \n",
    "\n",
    "   ### 19000503 Johnatan Meoño\n",
    "   ### 19000504 Jorge Garcia\n",
    "   ### 19000477 Eduardo Lopez"
   ]
  },
  {
   "cell_type": "markdown",
   "metadata": {},
   "source": [
    "## 1. ¿Qúe es SVM?\n",
    "\n",
    "### Es un de algoritmo de aprendizaje supervisado por clasificación. cuyo objetivo es encontrar un hiperplano en un espacio N-dimensional (N - el número de características) que clasifique claramente los puntos de datos."
   ]
  },
  {
   "cell_type": "markdown",
   "metadata": {},
   "source": [
    "## 2. ¿Para qué sirve?\n",
    "\n",
    "### Sirve para predecir si el dato un conjunto de prueba, pertenece a una de dos categorías."
   ]
  },
  {
   "cell_type": "markdown",
   "metadata": {},
   "source": [
    "## 3. ¿Cómo se entrena? y otros detalles \n",
    "\n"
   ]
  },
  {
   "cell_type": "markdown",
   "metadata": {},
   "source": [
    "### Hipotesis\n",
    "\n",
    "<img src=\"corazones.JPG\">\n",
    "\n",
    "### Se optimiza\n",
    "<img src=\"Ec1.JPG\">\n",
    "\n",
    "### O se optimiza\n",
    "<img src=\"Ec2.JPG\">\n",
    "\n",
    "\n",
    "### que es lo mismo que minizar\n",
    "<img src=\"Ec3.JPG\">\n",
    "\n",
    "## tenemos un proceso de optimización sujeto a la restricción \n",
    "<img src=\"Ec4.JPG\">\n",
    "\n",
    "## Aplicando lagrange se obtiene que la función a minimizar es \n",
    "<img src=\"Ec5.JPG\">\n",
    "\n",
    "## El resultado final es  \n",
    "<img src=\"Ec6.JPG\">"
   ]
  },
  {
   "cell_type": "markdown",
   "metadata": {},
   "source": [
    "### Función de Costo\n"
   ]
  },
  {
   "cell_type": "markdown",
   "metadata": {},
   "source": [
    "### Algoritmo\n",
    "\n"
   ]
  },
  {
   "cell_type": "markdown",
   "metadata": {},
   "source": [
    "## 4. ¿Predicción o Inferencia? \n",
    "\n",
    "### El algoritmo SVM puede emplearse para fines de clasificacion y regresion de dos grupos de datos, comprende una maquina de soporte vectorial para la clasificacion (SVM) y una de regresion (SVR), dado un conjunto de ejemplos de entrenamiento  que pertenecen a una de dos categorías, SVM construye un modelo que predice si un ejemplo cae dentro de una u otra categoría, la salidas son valores entre el rango [-1,1]\n",
    "\n",
    "<img src=\"Ec0.JPG\">\n"
   ]
  },
  {
   "cell_type": "markdown",
   "metadata": {},
   "source": [
    "## 5. ¿Diferencia con los ya conocidos? \n",
    "\n",
    "### SVM se diferencia de otros modelos en que genera un hiperplano optimo que clasifica  los nuevos ejemplos en dos espacios dimensionales. \n",
    "\n",
    "### SVM solo considera puntos cerca del margen, la regresión logística considera todos los puntos en el data set\n",
    "\n",
    "### A diferencia de la regresión logística la cual requiere feature engineering para clasificaciones que no son regresiones lineales, el algoritmo SVM soluciona este paso a través de una función kernel adecuada que mapee los datos"
   ]
  },
  {
   "cell_type": "markdown",
   "metadata": {},
   "source": [
    "## 6. ¿Ventajas? \n",
    "\n",
    "### Funciona bien para datos linealmente separables, para datos que son casi linealmente separables puede funcionar bien con el valor correcto del hiperplano. \n",
    "\n",
    "### Para datos que no son separables linealmente podemos proyectar los datos al espacio donde es perfectamente o casi linealmente separable.\n",
    "\n",
    "### SVM tiene la ventaja de poder manejar multiples dimensiones correctamente\n",
    "\n",
    "### Prediccion rapida porque solamente usa un subconjunto de datos ya que maximiza la distancia entre los puntos mas cercanos entre las dos clases\n",
    "\n",
    "### El algoritmo se adapta a los datos, no es necesario buscar otro algoritmo o ecuacion como en la regresion lineal, las bandas o rangos tienen el mismo comportamiento que la curva para abarcar la mayor cantidad de datos\n"
   ]
  },
  {
   "cell_type": "markdown",
   "metadata": {},
   "source": [
    "## 7. ¿Desventajas? \n",
    "\n",
    "### El algoritmo  funciona muy bien solamente cuando tiene datos limpios\n",
    "\n",
    "### No es una desventaja pero sí una limitación es que se debe escoger correctamente el kernel a usar para obtener buenos resultados\n",
    "\n",
    "### Si hay datos muy dispersos estos seran discriminados\n",
    "\n",
    "### Cuando el dataset es muy grande el tiempo de entrenamiento es alto\n",
    "\n",
    "\n",
    "# Kernel trick \n",
    "\n",
    "### se usa frente a datos que no son linelamente separables \n",
    "<img src=\"Ec10.JPG\">\n",
    "\n",
    "### La idea es mapear el conjunto de datos separables no lineales en un espacio dimensional más alto donde podamos encontrar un hiperplano que pueda separar las muestras.\n",
    "\n",
    "### La función Kernel es una funcion que reduce la complejidad de econtrar una función de mapeo, La función Kernel define el producto punto en el espacio transformado. \n",
    "\n",
    "## Trasformando lo que ya conocemos  \n",
    "<img src=\"Ec7.JPG\">\n",
    "\n",
    "## Funcion Kernel\n",
    "<img src=\"Ec8.JPG\">"
   ]
  },
  {
   "cell_type": "markdown",
   "metadata": {},
   "source": [
    "## 8. RBF Radial Basis Function \n",
    "<img src=\"Ec9.JPG\">\n"
   ]
  },
  {
   "cell_type": "markdown",
   "metadata": {},
   "source": [
    "## 9. Conclusiones\n",
    "\n",
    "### Es un proceso de optimización con restricción que se resuelve a través de Lagrange\n",
    "\n",
    "### Pertenece a la familia de modelos de aprendizaje supervisado por clasificación\n",
    "\n",
    "### SVM es un algoritmo muy poderoso para manejo de datos en multiples dimensiones siempre y cuando los datos no esten muy dispersos\n",
    "\n",
    "### La selección de un kernel adecuado determinará que el modelo clasifique correctamente"
   ]
  },
  {
   "cell_type": "markdown",
   "metadata": {},
   "source": [
    "# Bibliografia \n",
    "\n",
    "### https://towardsdatascience.com/understanding-support-vector-machine-part-1-lagrange-multipliers-5c24a52ffc5e\n",
    "\n",
    "### https://towardsdatascience.com/support-vector-machine-mnist-digit-classification-with-python-including-my-hand-written-digits-83d6eca7004a\n",
    "\n",
    "### https://towardsdatascience.com/understanding-support-vector-machine-part-2-kernel-trick-mercers-theorem-e1e6848c6c4d\n",
    "\n",
    "### https://www.youtube.com/watch?v=N1vOgolbjSc \n",
    "\n",
    "### https://www.youtube.com/watch?v=eUfvyUEGMD8&feature=youtu.be\n",
    "\n",
    "### https://www.youtube.com/watch?v=_PwhiWxHK8o&feature=youtu.be\n",
    "\n",
    "### https://www.youtube.com/watch?v=1NxnPkZM9bc&feature=youtu.be \n"
   ]
  }
 ],
 "metadata": {
  "kernelspec": {
   "display_name": "Python 3",
   "language": "python",
   "name": "python3"
  },
  "language_info": {
   "codemirror_mode": {
    "name": "ipython",
    "version": 3
   },
   "file_extension": ".py",
   "mimetype": "text/x-python",
   "name": "python",
   "nbconvert_exporter": "python",
   "pygments_lexer": "ipython3",
   "version": "3.6.5"
  }
 },
 "nbformat": 4,
 "nbformat_minor": 2
}
