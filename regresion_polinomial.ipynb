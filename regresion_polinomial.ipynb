{
 "cells": [
  {
   "cell_type": "markdown",
   "metadata": {},
   "source": [
    "## JOHNATAN MEOÑO"
   ]
  },
  {
   "cell_type": "markdown",
   "metadata": {},
   "source": [
    "## Regresion Polinomial & Feature engineering"
   ]
  },
  {
   "cell_type": "code",
   "execution_count": 1,
   "metadata": {},
   "outputs": [],
   "source": [
    "import pandas as pd\n",
    "import numpy as np\n",
    "import seaborn as sb \n",
    "import matplotlib.pyplot as plt"
   ]
  },
  {
   "cell_type": "code",
   "execution_count": 2,
   "metadata": {},
   "outputs": [
    {
     "name": "stderr",
     "output_type": "stream",
     "text": [
      "C:\\Users\\Johnatan\\Anaconda3\\lib\\site-packages\\h5py\\__init__.py:36: FutureWarning: Conversion of the second argument of issubdtype from `float` to `np.floating` is deprecated. In future, it will be treated as `np.float64 == np.dtype(float).type`.\n",
      "  from ._conv import register_converters as _register_converters\n"
     ]
    }
   ],
   "source": [
    "import tensorflow as tf"
   ]
  },
  {
   "cell_type": "code",
   "execution_count": 3,
   "metadata": {},
   "outputs": [],
   "source": [
    "data = pd.read_csv('winequality-red.csv')"
   ]
  },
  {
   "cell_type": "markdown",
   "metadata": {},
   "source": [
    "### Red Wine Quality Data\n",
    "\n",
    "Se aplicará regresión para crear un modelo de la calidad de vino en función de características del mismo, siendo 1 el peor vino y 10 el mejor.\n",
    "\n",
    "Variables de entrada:\n",
    "1. fixed acidity \n",
    "2. volatile acidity \n",
    "3. citric acid \n",
    "4. residual sugar \n",
    "5. chlorides \n",
    "6. free sulfur dioxide \n",
    "7. total sulfur dioxide \n",
    "8. density \n",
    "9. pH \n",
    "10. sulphates \n",
    "11. alcohol \n",
    "\n",
    "Varaible a predecir: \n",
    "12. quality (puntuacion  entre 0 y 10) \n",
    "\n"
   ]
  },
  {
   "cell_type": "code",
   "execution_count": 4,
   "metadata": {},
   "outputs": [
    {
     "data": {
      "text/html": [
       "<div>\n",
       "<style scoped>\n",
       "    .dataframe tbody tr th:only-of-type {\n",
       "        vertical-align: middle;\n",
       "    }\n",
       "\n",
       "    .dataframe tbody tr th {\n",
       "        vertical-align: top;\n",
       "    }\n",
       "\n",
       "    .dataframe thead th {\n",
       "        text-align: right;\n",
       "    }\n",
       "</style>\n",
       "<table border=\"1\" class=\"dataframe\">\n",
       "  <thead>\n",
       "    <tr style=\"text-align: right;\">\n",
       "      <th></th>\n",
       "      <th>fixed acidity</th>\n",
       "      <th>volatile acidity</th>\n",
       "      <th>citric acid</th>\n",
       "      <th>residual sugar</th>\n",
       "      <th>chlorides</th>\n",
       "      <th>free sulfur dioxide</th>\n",
       "      <th>total sulfur dioxide</th>\n",
       "      <th>density</th>\n",
       "      <th>pH</th>\n",
       "      <th>sulphates</th>\n",
       "      <th>alcohol</th>\n",
       "      <th>quality</th>\n",
       "    </tr>\n",
       "  </thead>\n",
       "  <tbody>\n",
       "    <tr>\n",
       "      <th>0</th>\n",
       "      <td>7.4</td>\n",
       "      <td>0.70</td>\n",
       "      <td>0.00</td>\n",
       "      <td>1.9</td>\n",
       "      <td>0.076</td>\n",
       "      <td>11.0</td>\n",
       "      <td>34.0</td>\n",
       "      <td>0.9978</td>\n",
       "      <td>3.51</td>\n",
       "      <td>0.56</td>\n",
       "      <td>9.4</td>\n",
       "      <td>5</td>\n",
       "    </tr>\n",
       "    <tr>\n",
       "      <th>1</th>\n",
       "      <td>7.8</td>\n",
       "      <td>0.88</td>\n",
       "      <td>0.00</td>\n",
       "      <td>2.6</td>\n",
       "      <td>0.098</td>\n",
       "      <td>25.0</td>\n",
       "      <td>67.0</td>\n",
       "      <td>0.9968</td>\n",
       "      <td>3.20</td>\n",
       "      <td>0.68</td>\n",
       "      <td>9.8</td>\n",
       "      <td>5</td>\n",
       "    </tr>\n",
       "    <tr>\n",
       "      <th>2</th>\n",
       "      <td>7.8</td>\n",
       "      <td>0.76</td>\n",
       "      <td>0.04</td>\n",
       "      <td>2.3</td>\n",
       "      <td>0.092</td>\n",
       "      <td>15.0</td>\n",
       "      <td>54.0</td>\n",
       "      <td>0.9970</td>\n",
       "      <td>3.26</td>\n",
       "      <td>0.65</td>\n",
       "      <td>9.8</td>\n",
       "      <td>5</td>\n",
       "    </tr>\n",
       "    <tr>\n",
       "      <th>3</th>\n",
       "      <td>11.2</td>\n",
       "      <td>0.28</td>\n",
       "      <td>0.56</td>\n",
       "      <td>1.9</td>\n",
       "      <td>0.075</td>\n",
       "      <td>17.0</td>\n",
       "      <td>60.0</td>\n",
       "      <td>0.9980</td>\n",
       "      <td>3.16</td>\n",
       "      <td>0.58</td>\n",
       "      <td>9.8</td>\n",
       "      <td>6</td>\n",
       "    </tr>\n",
       "    <tr>\n",
       "      <th>4</th>\n",
       "      <td>7.4</td>\n",
       "      <td>0.70</td>\n",
       "      <td>0.00</td>\n",
       "      <td>1.9</td>\n",
       "      <td>0.076</td>\n",
       "      <td>11.0</td>\n",
       "      <td>34.0</td>\n",
       "      <td>0.9978</td>\n",
       "      <td>3.51</td>\n",
       "      <td>0.56</td>\n",
       "      <td>9.4</td>\n",
       "      <td>5</td>\n",
       "    </tr>\n",
       "  </tbody>\n",
       "</table>\n",
       "</div>"
      ],
      "text/plain": [
       "   fixed acidity  volatile acidity  citric acid  residual sugar  chlorides  \\\n",
       "0            7.4              0.70         0.00             1.9      0.076   \n",
       "1            7.8              0.88         0.00             2.6      0.098   \n",
       "2            7.8              0.76         0.04             2.3      0.092   \n",
       "3           11.2              0.28         0.56             1.9      0.075   \n",
       "4            7.4              0.70         0.00             1.9      0.076   \n",
       "\n",
       "   free sulfur dioxide  total sulfur dioxide  density    pH  sulphates  \\\n",
       "0                 11.0                  34.0   0.9978  3.51       0.56   \n",
       "1                 25.0                  67.0   0.9968  3.20       0.68   \n",
       "2                 15.0                  54.0   0.9970  3.26       0.65   \n",
       "3                 17.0                  60.0   0.9980  3.16       0.58   \n",
       "4                 11.0                  34.0   0.9978  3.51       0.56   \n",
       "\n",
       "   alcohol  quality  \n",
       "0      9.4        5  \n",
       "1      9.8        5  \n",
       "2      9.8        5  \n",
       "3      9.8        6  \n",
       "4      9.4        5  "
      ]
     },
     "execution_count": 4,
     "metadata": {},
     "output_type": "execute_result"
    }
   ],
   "source": [
    "data.head()"
   ]
  },
  {
   "cell_type": "code",
   "execution_count": 5,
   "metadata": {},
   "outputs": [],
   "source": [
    "## data frame a matriz\n",
    "datos = data.values"
   ]
  },
  {
   "cell_type": "code",
   "execution_count": 10,
   "metadata": {},
   "outputs": [
    {
     "name": "stdout",
     "output_type": "stream",
     "text": [
      "Tipo <class 'numpy.ndarray'>\n",
      "Forma (1599, 12)\n",
      "Rango 2\n",
      "Vista de los datos [[ 7.4    0.7    0.    ...  0.56   9.4    5.   ]\n",
      " [ 7.8    0.88   0.    ...  0.68   9.8    5.   ]\n",
      " [ 7.8    0.76   0.04  ...  0.65   9.8    5.   ]\n",
      " ...\n",
      " [ 6.3    0.51   0.13  ...  0.75  11.     6.   ]\n",
      " [ 5.9    0.645  0.12  ...  0.71  10.2    5.   ]\n",
      " [ 6.     0.31   0.47  ...  0.66  11.     6.   ]]\n"
     ]
    }
   ],
   "source": [
    "print(\"Tipo\", type(datos))\n",
    "print(\"Forma\", datos.shape)\n",
    "print(\"Rango\", datos.ndim)\n",
    "print(\"Vista de los datos\", datos)"
   ]
  },
  {
   "cell_type": "markdown",
   "metadata": {},
   "source": [
    "## Analisis exploratorio "
   ]
  },
  {
   "cell_type": "markdown",
   "metadata": {},
   "source": [
    "## Y y su estadistica descriptiva "
   ]
  },
  {
   "cell_type": "code",
   "execution_count": 16,
   "metadata": {},
   "outputs": [
    {
     "name": "stdout",
     "output_type": "stream",
     "text": [
      "Media de Y = 5.6360225140712945\n",
      "Valor Máximo de Y = 8.0\n",
      "Valor Mínimo de Y = 3.0\n",
      "Rango de Y = 5.0\n",
      "Desviación Estandar de Y = 0.8073168769639513\n"
     ]
    }
   ],
   "source": [
    "y = datos[:,11]\n",
    "\n",
    "print(\"Media de Y =\", np.mean(y))\n",
    "print(\"Valor Máximo de Y =\", np.max(y))\n",
    "print(\"Valor Mínimo de Y =\", np.min(y))\n",
    "print(\"Rango de Y =\", np.max(y)-np.min(y)) \n",
    "print(\"Desviación Estandar de Y =\", np.std(y))\n"
   ]
  },
  {
   "cell_type": "markdown",
   "metadata": {},
   "source": [
    "## X y su estadistica descriptiva "
   ]
  },
  {
   "cell_type": "code",
   "execution_count": 17,
   "metadata": {},
   "outputs": [
    {
     "name": "stdout",
     "output_type": "stream",
     "text": [
      "Media de x1 = 8.31963727329581\n",
      "Valor Máximo de x1 = 15.9\n",
      "Valor Mínimo de x1 = 4.6\n",
      "Rango de x1 = 11.3\n",
      "Desviación Estandar de x1 = 1.7405518001102729\n"
     ]
    }
   ],
   "source": [
    "x1 = datos[:,0] \n",
    "print(\"Media de x1 =\", np.mean(x1))\n",
    "print(\"Valor Máximo de x1 =\", np.max(x1))\n",
    "print(\"Valor Mínimo de x1 =\", np.min(x1))\n",
    "print(\"Rango de x1 =\", np.max(x1)-np.min(x1)) \n",
    "print(\"Desviación Estandar de x1 =\", np.std(x1))"
   ]
  },
  {
   "cell_type": "code",
   "execution_count": 18,
   "metadata": {},
   "outputs": [
    {
     "name": "stdout",
     "output_type": "stream",
     "text": [
      "Media de x2 = 0.5278205128205128\n",
      "Valor Máximo de x2 = 1.58\n",
      "Valor Mínimo de x2 = 0.12\n",
      "Rango de x2 = 1.46\n",
      "Desviación Estandar de x2 = 0.17900370424469014\n"
     ]
    }
   ],
   "source": [
    "x2 = datos[:,1] \n",
    "print(\"Media de x2 =\", np.mean(x2))\n",
    "print(\"Valor Máximo de x2 =\", np.max(x2))\n",
    "print(\"Valor Mínimo de x2 =\", np.min(x2))\n",
    "print(\"Rango de x2 =\", np.max(x2)-np.min(x2)) \n",
    "print(\"Desviación Estandar de x2 =\", np.std(x2))"
   ]
  },
  {
   "cell_type": "code",
   "execution_count": 19,
   "metadata": {},
   "outputs": [
    {
     "name": "stdout",
     "output_type": "stream",
     "text": [
      "Media de x3 = 0.2709756097560976\n",
      "Valor Máximo de x3 = 1.0\n",
      "Valor Mínimo de x3 = 0.0\n",
      "Rango de x3 = 1.0\n",
      "Desviación Estandar de x3 = 0.19474021445233364\n"
     ]
    }
   ],
   "source": [
    "x3 = datos[:,2] \n",
    "print(\"Media de x3 =\", np.mean(x3))\n",
    "print(\"Valor Máximo de x3 =\", np.max(x3))\n",
    "print(\"Valor Mínimo de x3 =\", np.min(x3))\n",
    "print(\"Rango de x3 =\", np.max(x3)-np.min(x3)) \n",
    "print(\"Desviación Estandar de x3 =\", np.std(x3))"
   ]
  },
  {
   "cell_type": "code",
   "execution_count": 20,
   "metadata": {},
   "outputs": [
    {
     "name": "stdout",
     "output_type": "stream",
     "text": [
      "Media de x4 = 2.53880550343965\n",
      "Valor Máximo de x4 = 15.5\n",
      "Valor Mínimo de x4 = 0.9\n",
      "Rango de x4 = 14.6\n",
      "Desviación Estandar de x4 = 1.4094871124880495\n"
     ]
    }
   ],
   "source": [
    "x4 = datos[:,3] \n",
    "print(\"Media de x4 =\", np.mean(x4))\n",
    "print(\"Valor Máximo de x4 =\", np.max(x4))\n",
    "print(\"Valor Mínimo de x4 =\", np.min(x4))\n",
    "print(\"Rango de x4 =\", np.max(x4)-np.min(x4)) \n",
    "print(\"Desviación Estandar de x4 =\", np.std(x4))"
   ]
  },
  {
   "cell_type": "code",
   "execution_count": 21,
   "metadata": {},
   "outputs": [
    {
     "name": "stdout",
     "output_type": "stream",
     "text": [
      "Media de x5 = 0.08746654158849279\n",
      "Valor Máximo de x5 = 0.611\n",
      "Valor Mínimo de x5 = 0.012\n",
      "Rango de x5 = 0.599\n",
      "Desviación Estandar de x5 = 0.04705058260331571\n"
     ]
    }
   ],
   "source": [
    "x5 = datos[:,4] \n",
    "print(\"Media de x5 =\", np.mean(x5))\n",
    "print(\"Valor Máximo de x5 =\", np.max(x5))\n",
    "print(\"Valor Mínimo de x5 =\", np.min(x5))\n",
    "print(\"Rango de x5 =\", np.max(x5)-np.min(x5)) \n",
    "print(\"Desviación Estandar de x5 =\", np.std(x5))"
   ]
  },
  {
   "cell_type": "code",
   "execution_count": 22,
   "metadata": {},
   "outputs": [
    {
     "name": "stdout",
     "output_type": "stream",
     "text": [
      "Media de x6 = 15.874921826141339\n",
      "Valor Máximo de x6 = 72.0\n",
      "Valor Mínimo de x6 = 1.0\n",
      "Rango de x6 = 71.0\n",
      "Desviación Estandar de x6 = 10.45688561493072\n"
     ]
    }
   ],
   "source": [
    "x6 = datos[:,5] \n",
    "print(\"Media de x6 =\", np.mean(x6))\n",
    "print(\"Valor Máximo de x6 =\", np.max(x6))\n",
    "print(\"Valor Mínimo de x6 =\", np.min(x6))\n",
    "print(\"Rango de x6 =\", np.max(x6)-np.min(x6)) \n",
    "print(\"Desviación Estandar de x6 =\", np.std(x6))"
   ]
  },
  {
   "cell_type": "code",
   "execution_count": 23,
   "metadata": {},
   "outputs": [
    {
     "name": "stdout",
     "output_type": "stream",
     "text": [
      "Media de x7 = 46.46779237023139\n",
      "Valor Máximo de x7 = 289.0\n",
      "Valor Mínimo de x7 = 6.0\n",
      "Rango de x7 = 283.0\n",
      "Desviación Estandar de x7 = 32.88503665178374\n"
     ]
    }
   ],
   "source": [
    "x7 = datos[:,6] \n",
    "print(\"Media de x7 =\", np.mean(x7))\n",
    "print(\"Valor Máximo de x7 =\", np.max(x7))\n",
    "print(\"Valor Mínimo de x7 =\", np.min(x7))\n",
    "print(\"Rango de x7 =\", np.max(x7)-np.min(x7)) \n",
    "print(\"Desviación Estandar de x7 =\", np.std(x7))"
   ]
  },
  {
   "cell_type": "code",
   "execution_count": 24,
   "metadata": {},
   "outputs": [
    {
     "name": "stdout",
     "output_type": "stream",
     "text": [
      "Media de x8 = 0.9967466791744841\n",
      "Valor Máximo de x8 = 1.00369\n",
      "Valor Mínimo de x8 = 0.99007\n",
      "Rango de x8 = 0.013619999999999965\n",
      "Desviación Estandar de x8 = 0.0018867437008323914\n"
     ]
    }
   ],
   "source": [
    "x8 = datos[:,7] \n",
    "print(\"Media de x8 =\", np.mean(x8))\n",
    "print(\"Valor Máximo de x8 =\", np.max(x8))\n",
    "print(\"Valor Mínimo de x8 =\", np.min(x8))\n",
    "print(\"Rango de x8 =\", np.max(x8)-np.min(x8)) \n",
    "print(\"Desviación Estandar de x8 =\", np.std(x8))"
   ]
  },
  {
   "cell_type": "code",
   "execution_count": 25,
   "metadata": {},
   "outputs": [
    {
     "name": "stdout",
     "output_type": "stream",
     "text": [
      "Media de x9 = 3.3111131957473416\n",
      "Valor Máximo de x9 = 4.01\n",
      "Valor Mínimo de x9 = 2.74\n",
      "Rango de x9 = 1.2699999999999996\n",
      "Desviación Estandar de x9 = 0.15433818141060165\n"
     ]
    }
   ],
   "source": [
    "x9 = datos[:,8] \n",
    "print(\"Media de x9 =\", np.mean(x9))\n",
    "print(\"Valor Máximo de x9 =\", np.max(x9))\n",
    "print(\"Valor Mínimo de x9 =\", np.min(x9))\n",
    "print(\"Rango de x9 =\", np.max(x9)-np.min(x9)) \n",
    "print(\"Desviación Estandar de x9 =\", np.std(x9))"
   ]
  },
  {
   "cell_type": "code",
   "execution_count": 26,
   "metadata": {},
   "outputs": [
    {
     "name": "stdout",
     "output_type": "stream",
     "text": [
      "Media de x10 = 0.6581488430268917\n",
      "Valor Máximo de x10 = 2.0\n",
      "Valor Mínimo de x10 = 0.33\n",
      "Rango de x10 = 1.67\n",
      "Desviación Estandar de x10 = 0.16945396724179546\n"
     ]
    }
   ],
   "source": [
    "x10 = datos[:,9] \n",
    "print(\"Media de x10 =\", np.mean(x10))\n",
    "print(\"Valor Máximo de x10 =\", np.max(x10))\n",
    "print(\"Valor Mínimo de x10 =\", np.min(x10))\n",
    "print(\"Rango de x10 =\", np.max(x10)-np.min(x10)) \n",
    "print(\"Desviación Estandar de x10 =\", np.std(x10))"
   ]
  },
  {
   "cell_type": "code",
   "execution_count": 27,
   "metadata": {},
   "outputs": [
    {
     "name": "stdout",
     "output_type": "stream",
     "text": [
      "Media de x11 = 10.422983114446529\n",
      "Valor Máximo de x11 = 14.9\n",
      "Valor Mínimo de x11 = 8.4\n",
      "Rango de x11 = 6.5\n",
      "Desviación Estandar de x11 = 1.0653343003437483\n"
     ]
    }
   ],
   "source": [
    "x11 = datos[:,10] \n",
    "print(\"Media de x11 =\", np.mean(x11))\n",
    "print(\"Valor Máximo de x11 =\", np.max(x11))\n",
    "print(\"Valor Mínimo de x11 =\", np.min(x11))\n",
    "print(\"Rango de x11 =\", np.max(x11)-np.min(x11)) \n",
    "print(\"Desviación Estandar de x11 =\", np.std(x11))"
   ]
  },
  {
   "cell_type": "markdown",
   "metadata": {},
   "source": [
    "## Histograma de cada variable"
   ]
  },
  {
   "cell_type": "code",
   "execution_count": 28,
   "metadata": {},
   "outputs": [
    {
     "name": "stderr",
     "output_type": "stream",
     "text": [
      "C:\\Users\\Johnatan\\Anaconda3\\lib\\site-packages\\scipy\\stats\\stats.py:1713: FutureWarning: Using a non-tuple sequence for multidimensional indexing is deprecated; use `arr[tuple(seq)]` instead of `arr[seq]`. In the future this will be interpreted as an array index, `arr[np.array(seq)]`, which will result either in an error or a different result.\n",
      "  return np.add.reduce(sorted[indexer] * weights, axis=axis) / sumval\n",
      "C:\\Users\\Johnatan\\Anaconda3\\lib\\site-packages\\matplotlib\\axes\\_axes.py:6521: MatplotlibDeprecationWarning: \n",
      "The 'normed' kwarg was deprecated in Matplotlib 2.1 and will be removed in 3.1. Use 'density' instead.\n",
      "  alternative=\"'density'\", removal=\"3.1\")\n"
     ]
    },
    {
     "data": {
      "text/plain": [
       "<matplotlib.axes._subplots.AxesSubplot at 0x2d2a0f629b0>"
      ]
     },
     "execution_count": 28,
     "metadata": {},
     "output_type": "execute_result"
    },
    {
     "data": {
      "image/png": "[encoded data removed]",
      "text/plain": [
       "<Figure size 432x288 with 1 Axes>"
      ]
     },
     "metadata": {},
     "output_type": "display_data"
    }
   ],
   "source": [
    "sb.distplot(y)"
   ]
  },
  {
   "cell_type": "code",
   "execution_count": 29,
   "metadata": {},
   "outputs": [
    {
     "name": "stderr",
     "output_type": "stream",
     "text": [
      "C:\\Users\\Johnatan\\Anaconda3\\lib\\site-packages\\scipy\\stats\\stats.py:1713: FutureWarning: Using a non-tuple sequence for multidimensional indexing is deprecated; use `arr[tuple(seq)]` instead of `arr[seq]`. In the future this will be interpreted as an array index, `arr[np.array(seq)]`, which will result either in an error or a different result.\n",
      "  return np.add.reduce(sorted[indexer] * weights, axis=axis) / sumval\n",
      "C:\\Users\\Johnatan\\Anaconda3\\lib\\site-packages\\matplotlib\\axes\\_axes.py:6521: MatplotlibDeprecationWarning: \n",
      "The 'normed' kwarg was deprecated in Matplotlib 2.1 and will be removed in 3.1. Use 'density' instead.\n",
      "  alternative=\"'density'\", removal=\"3.1\")\n"
     ]
    },
    {
     "data": {
      "text/plain": [
       "<matplotlib.axes._subplots.AxesSubplot at 0x2d2a6b26898>"
      ]
     },
     "execution_count": 29,
     "metadata": {},
     "output_type": "execute_result"
    },
    {
     "data": {
      "image/png": "[encoded data removed]",
      "text/plain": [
       "<Figure size 432x288 with 1 Axes>"
      ]
     },
     "metadata": {},
     "output_type": "display_data"
    }
   ],
   "source": [
    "sb.distplot(x1)"
   ]
  },
  {
   "cell_type": "code",
   "execution_count": 30,
   "metadata": {},
   "outputs": [
    {
     "name": "stderr",
     "output_type": "stream",
     "text": [
      "C:\\Users\\Johnatan\\Anaconda3\\lib\\site-packages\\scipy\\stats\\stats.py:1713: FutureWarning: Using a non-tuple sequence for multidimensional indexing is deprecated; use `arr[tuple(seq)]` instead of `arr[seq]`. In the future this will be interpreted as an array index, `arr[np.array(seq)]`, which will result either in an error or a different result.\n",
      "  return np.add.reduce(sorted[indexer] * weights, axis=axis) / sumval\n",
      "C:\\Users\\Johnatan\\Anaconda3\\lib\\site-packages\\matplotlib\\axes\\_axes.py:6521: MatplotlibDeprecationWarning: \n",
      "The 'normed' kwarg was deprecated in Matplotlib 2.1 and will be removed in 3.1. Use 'density' instead.\n",
      "  alternative=\"'density'\", removal=\"3.1\")\n"
     ]
    },
    {
     "data": {
      "text/plain": [
       "<matplotlib.axes._subplots.AxesSubplot at 0x2d2a8c76c18>"
      ]
     },
     "execution_count": 30,
     "metadata": {},
     "output_type": "execute_result"
    },
    {
     "data": {
      "image/png": "[encoded data removed]",
      "text/plain": [
       "<Figure size 432x288 with 1 Axes>"
      ]
     },
     "metadata": {},
     "output_type": "display_data"
    }
   ],
   "source": [
    "sb.distplot(x2)"
   ]
  },
  {
   "cell_type": "code",
   "execution_count": 31,
   "metadata": {},
   "outputs": [
    {
     "name": "stderr",
     "output_type": "stream",
     "text": [
      "C:\\Users\\Johnatan\\Anaconda3\\lib\\site-packages\\scipy\\stats\\stats.py:1713: FutureWarning: Using a non-tuple sequence for multidimensional indexing is deprecated; use `arr[tuple(seq)]` instead of `arr[seq]`. In the future this will be interpreted as an array index, `arr[np.array(seq)]`, which will result either in an error or a different result.\n",
      "  return np.add.reduce(sorted[indexer] * weights, axis=axis) / sumval\n",
      "C:\\Users\\Johnatan\\Anaconda3\\lib\\site-packages\\matplotlib\\axes\\_axes.py:6521: MatplotlibDeprecationWarning: \n",
      "The 'normed' kwarg was deprecated in Matplotlib 2.1 and will be removed in 3.1. Use 'density' instead.\n",
      "  alternative=\"'density'\", removal=\"3.1\")\n"
     ]
    },
    {
     "data": {
      "text/plain": [
       "<matplotlib.axes._subplots.AxesSubplot at 0x2d2a8d1c2b0>"
      ]
     },
     "execution_count": 31,
     "metadata": {},
     "output_type": "execute_result"
    },
    {
     "data": {
      "image/png": "[encoded data removed]",
      "text/plain": [
       "<Figure size 432x288 with 1 Axes>"
      ]
     },
     "metadata": {},
     "output_type": "display_data"
    }
   ],
   "source": [
    "sb.distplot(x3)"
   ]
  },
  {
   "cell_type": "code",
   "execution_count": 32,
   "metadata": {},
   "outputs": [
    {
     "name": "stderr",
     "output_type": "stream",
     "text": [
      "C:\\Users\\Johnatan\\Anaconda3\\lib\\site-packages\\scipy\\stats\\stats.py:1713: FutureWarning: Using a non-tuple sequence for multidimensional indexing is deprecated; use `arr[tuple(seq)]` instead of `arr[seq]`. In the future this will be interpreted as an array index, `arr[np.array(seq)]`, which will result either in an error or a different result.\n",
      "  return np.add.reduce(sorted[indexer] * weights, axis=axis) / sumval\n",
      "C:\\Users\\Johnatan\\Anaconda3\\lib\\site-packages\\matplotlib\\axes\\_axes.py:6521: MatplotlibDeprecationWarning: \n",
      "The 'normed' kwarg was deprecated in Matplotlib 2.1 and will be removed in 3.1. Use 'density' instead.\n",
      "  alternative=\"'density'\", removal=\"3.1\")\n"
     ]
    },
    {
     "data": {
      "text/plain": [
       "<matplotlib.axes._subplots.AxesSubplot at 0x2d2a8d13c50>"
      ]
     },
     "execution_count": 32,
     "metadata": {},
     "output_type": "execute_result"
    },
    {
     "data": {
      "image/png": "[encoded data removed]",
      "text/plain": [
       "<Figure size 432x288 with 1 Axes>"
      ]
     },
     "metadata": {},
     "output_type": "display_data"
    }
   ],
   "source": [
    "sb.distplot(x4)"
   ]
  },
  {
   "cell_type": "code",
   "execution_count": 33,
   "metadata": {},
   "outputs": [
    {
     "name": "stderr",
     "output_type": "stream",
     "text": [
      "C:\\Users\\Johnatan\\Anaconda3\\lib\\site-packages\\scipy\\stats\\stats.py:1713: FutureWarning: Using a non-tuple sequence for multidimensional indexing is deprecated; use `arr[tuple(seq)]` instead of `arr[seq]`. In the future this will be interpreted as an array index, `arr[np.array(seq)]`, which will result either in an error or a different result.\n",
      "  return np.add.reduce(sorted[indexer] * weights, axis=axis) / sumval\n",
      "C:\\Users\\Johnatan\\Anaconda3\\lib\\site-packages\\matplotlib\\axes\\_axes.py:6521: MatplotlibDeprecationWarning: \n",
      "The 'normed' kwarg was deprecated in Matplotlib 2.1 and will be removed in 3.1. Use 'density' instead.\n",
      "  alternative=\"'density'\", removal=\"3.1\")\n"
     ]
    },
    {
     "data": {
      "text/plain": [
       "<matplotlib.axes._subplots.AxesSubplot at 0x2d2a8d9b710>"
      ]
     },
     "execution_count": 33,
     "metadata": {},
     "output_type": "execute_result"
    },
    {
     "data": {
      "image/png": "[encoded data removed]",
      "text/plain": [
       "<Figure size 432x288 with 1 Axes>"
      ]
     },
     "metadata": {},
     "output_type": "display_data"
    }
   ],
   "source": [
    "sb.distplot(x5)"
   ]
  },
  {
   "cell_type": "code",
   "execution_count": 34,
   "metadata": {},
   "outputs": [
    {
     "name": "stderr",
     "output_type": "stream",
     "text": [
      "C:\\Users\\Johnatan\\Anaconda3\\lib\\site-packages\\scipy\\stats\\stats.py:1713: FutureWarning: Using a non-tuple sequence for multidimensional indexing is deprecated; use `arr[tuple(seq)]` instead of `arr[seq]`. In the future this will be interpreted as an array index, `arr[np.array(seq)]`, which will result either in an error or a different result.\n",
      "  return np.add.reduce(sorted[indexer] * weights, axis=axis) / sumval\n",
      "C:\\Users\\Johnatan\\Anaconda3\\lib\\site-packages\\matplotlib\\axes\\_axes.py:6521: MatplotlibDeprecationWarning: \n",
      "The 'normed' kwarg was deprecated in Matplotlib 2.1 and will be removed in 3.1. Use 'density' instead.\n",
      "  alternative=\"'density'\", removal=\"3.1\")\n"
     ]
    },
    {
     "data": {
      "text/plain": [
       "<matplotlib.axes._subplots.AxesSubplot at 0x2d2a6aa5898>"
      ]
     },
     "execution_count": 34,
     "metadata": {},
     "output_type": "execute_result"
    },
    {
     "data": {
      "image/png": "[encoded data removed]",
      "text/plain": [
       "<Figure size 432x288 with 1 Axes>"
      ]
     },
     "metadata": {},
     "output_type": "display_data"
    }
   ],
   "source": [
    "sb.distplot(x6)"
   ]
  },
  {
   "cell_type": "code",
   "execution_count": 35,
   "metadata": {},
   "outputs": [
    {
     "name": "stderr",
     "output_type": "stream",
     "text": [
      "C:\\Users\\Johnatan\\Anaconda3\\lib\\site-packages\\scipy\\stats\\stats.py:1713: FutureWarning: Using a non-tuple sequence for multidimensional indexing is deprecated; use `arr[tuple(seq)]` instead of `arr[seq]`. In the future this will be interpreted as an array index, `arr[np.array(seq)]`, which will result either in an error or a different result.\n",
      "  return np.add.reduce(sorted[indexer] * weights, axis=axis) / sumval\n",
      "C:\\Users\\Johnatan\\Anaconda3\\lib\\site-packages\\matplotlib\\axes\\_axes.py:6521: MatplotlibDeprecationWarning: \n",
      "The 'normed' kwarg was deprecated in Matplotlib 2.1 and will be removed in 3.1. Use 'density' instead.\n",
      "  alternative=\"'density'\", removal=\"3.1\")\n"
     ]
    },
    {
     "data": {
      "text/plain": [
       "<matplotlib.axes._subplots.AxesSubplot at 0x2d2a8fccb38>"
      ]
     },
     "execution_count": 35,
     "metadata": {},
     "output_type": "execute_result"
    },
    {
     "data": {
      "image/png": "[encoded data removed]",
      "text/plain": [
       "<Figure size 432x288 with 1 Axes>"
      ]
     },
     "metadata": {},
     "output_type": "display_data"
    }
   ],
   "source": [
    "sb.distplot(x7)"
   ]
  },
  {
   "cell_type": "code",
   "execution_count": 36,
   "metadata": {},
   "outputs": [
    {
     "name": "stderr",
     "output_type": "stream",
     "text": [
      "C:\\Users\\Johnatan\\Anaconda3\\lib\\site-packages\\scipy\\stats\\stats.py:1713: FutureWarning: Using a non-tuple sequence for multidimensional indexing is deprecated; use `arr[tuple(seq)]` instead of `arr[seq]`. In the future this will be interpreted as an array index, `arr[np.array(seq)]`, which will result either in an error or a different result.\n",
      "  return np.add.reduce(sorted[indexer] * weights, axis=axis) / sumval\n",
      "C:\\Users\\Johnatan\\Anaconda3\\lib\\site-packages\\matplotlib\\axes\\_axes.py:6521: MatplotlibDeprecationWarning: \n",
      "The 'normed' kwarg was deprecated in Matplotlib 2.1 and will be removed in 3.1. Use 'density' instead.\n",
      "  alternative=\"'density'\", removal=\"3.1\")\n"
     ]
    },
    {
     "data": {
      "text/plain": [
       "<matplotlib.axes._subplots.AxesSubplot at 0x2d2a90600f0>"
      ]
     },
     "execution_count": 36,
     "metadata": {},
     "output_type": "execute_result"
    },
    {
     "data": {
      "image/png": "[encoded data removed]",
      "text/plain": [
       "<Figure size 432x288 with 1 Axes>"
      ]
     },
     "metadata": {},
     "output_type": "display_data"
    }
   ],
   "source": [
    "sb.distplot(x8)"
   ]
  },
  {
   "cell_type": "code",
   "execution_count": 37,
   "metadata": {},
   "outputs": [
    {
     "name": "stderr",
     "output_type": "stream",
     "text": [
      "C:\\Users\\Johnatan\\Anaconda3\\lib\\site-packages\\scipy\\stats\\stats.py:1713: FutureWarning: Using a non-tuple sequence for multidimensional indexing is deprecated; use `arr[tuple(seq)]` instead of `arr[seq]`. In the future this will be interpreted as an array index, `arr[np.array(seq)]`, which will result either in an error or a different result.\n",
      "  return np.add.reduce(sorted[indexer] * weights, axis=axis) / sumval\n",
      "C:\\Users\\Johnatan\\Anaconda3\\lib\\site-packages\\matplotlib\\axes\\_axes.py:6521: MatplotlibDeprecationWarning: \n",
      "The 'normed' kwarg was deprecated in Matplotlib 2.1 and will be removed in 3.1. Use 'density' instead.\n",
      "  alternative=\"'density'\", removal=\"3.1\")\n"
     ]
    },
    {
     "data": {
      "text/plain": [
       "<matplotlib.axes._subplots.AxesSubplot at 0x2d2a916f2b0>"
      ]
     },
     "execution_count": 37,
     "metadata": {},
     "output_type": "execute_result"
    },
    {
     "data": {
      "image/png": "[encoded data removed]",
      "text/plain": [
       "<Figure size 432x288 with 1 Axes>"
      ]
     },
     "metadata": {},
     "output_type": "display_data"
    }
   ],
   "source": [
    "sb.distplot(x9)"
   ]
  },
  {
   "cell_type": "code",
   "execution_count": 38,
   "metadata": {},
   "outputs": [
    {
     "name": "stderr",
     "output_type": "stream",
     "text": [
      "C:\\Users\\Johnatan\\Anaconda3\\lib\\site-packages\\scipy\\stats\\stats.py:1713: FutureWarning: Using a non-tuple sequence for multidimensional indexing is deprecated; use `arr[tuple(seq)]` instead of `arr[seq]`. In the future this will be interpreted as an array index, `arr[np.array(seq)]`, which will result either in an error or a different result.\n",
      "  return np.add.reduce(sorted[indexer] * weights, axis=axis) / sumval\n",
      "C:\\Users\\Johnatan\\Anaconda3\\lib\\site-packages\\matplotlib\\axes\\_axes.py:6521: MatplotlibDeprecationWarning: \n",
      "The 'normed' kwarg was deprecated in Matplotlib 2.1 and will be removed in 3.1. Use 'density' instead.\n",
      "  alternative=\"'density'\", removal=\"3.1\")\n"
     ]
    },
    {
     "data": {
      "text/plain": [
       "<matplotlib.axes._subplots.AxesSubplot at 0x2d2a91946a0>"
      ]
     },
     "execution_count": 38,
     "metadata": {},
     "output_type": "execute_result"
    },
    {
     "data": {
      "image/png": "[encoded data removed]",
      "text/plain": [
       "<Figure size 432x288 with 1 Axes>"
      ]
     },
     "metadata": {},
     "output_type": "display_data"
    }
   ],
   "source": [
    "sb.distplot(x10)"
   ]
  },
  {
   "cell_type": "code",
   "execution_count": 39,
   "metadata": {},
   "outputs": [
    {
     "name": "stderr",
     "output_type": "stream",
     "text": [
      "C:\\Users\\Johnatan\\Anaconda3\\lib\\site-packages\\scipy\\stats\\stats.py:1713: FutureWarning: Using a non-tuple sequence for multidimensional indexing is deprecated; use `arr[tuple(seq)]` instead of `arr[seq]`. In the future this will be interpreted as an array index, `arr[np.array(seq)]`, which will result either in an error or a different result.\n",
      "  return np.add.reduce(sorted[indexer] * weights, axis=axis) / sumval\n",
      "C:\\Users\\Johnatan\\Anaconda3\\lib\\site-packages\\matplotlib\\axes\\_axes.py:6521: MatplotlibDeprecationWarning: \n",
      "The 'normed' kwarg was deprecated in Matplotlib 2.1 and will be removed in 3.1. Use 'density' instead.\n",
      "  alternative=\"'density'\", removal=\"3.1\")\n"
     ]
    },
    {
     "data": {
      "text/plain": [
       "<matplotlib.axes._subplots.AxesSubplot at 0x2d2a92054e0>"
      ]
     },
     "execution_count": 39,
     "metadata": {},
     "output_type": "execute_result"
    },
    {
     "data": {
      "image/png": "[encoded data removed]",
      "text/plain": [
       "<Figure size 432x288 with 1 Axes>"
      ]
     },
     "metadata": {},
     "output_type": "display_data"
    }
   ],
   "source": [
    "sb.distplot(x11)"
   ]
  },
  {
   "cell_type": "markdown",
   "metadata": {},
   "source": [
    "## Gráfica Y versus X y su coeficiente de correlación"
   ]
  },
  {
   "cell_type": "code",
   "execution_count": 43,
   "metadata": {},
   "outputs": [
    {
     "name": "stderr",
     "output_type": "stream",
     "text": [
      "C:\\Users\\Johnatan\\Anaconda3\\lib\\site-packages\\matplotlib\\text.py:1191: FutureWarning: elementwise comparison failed; returning scalar instead, but in the future will perform elementwise comparison\n",
      "  if s != self._text:\n"
     ]
    },
    {
     "data": {
      "image/png": "[encoded data removed]",
      "text/plain": [
       "<Figure size 2160x2880 with 11 Axes>"
      ]
     },
     "metadata": {},
     "output_type": "display_data"
    }
   ],
   "source": [
    "%matplotlib inline\n",
    "fig  = plt.figure(figsize=(30,40))\n",
    "\n",
    "ax1 = fig.add_subplot(4,3,1)\n",
    "ax2 = fig.add_subplot(4,3,2)\n",
    "ax3 = fig.add_subplot(4,3,3)\n",
    "ax4 = fig.add_subplot(4,3,4)\n",
    "ax5 = fig.add_subplot(4,3,5)\n",
    "ax6 = fig.add_subplot(4,3,6)\n",
    "ax7 = fig.add_subplot(4,3,7)\n",
    "ax8 = fig.add_subplot(4,3,8)\n",
    "ax9 = fig.add_subplot(4,3,9)\n",
    "ax10 = fig.add_subplot(4,3,10)\n",
    "ax11 = fig.add_subplot(4,3,11)\n",
    "\n",
    "ax1.scatter(x1,y,marker='*',color=\"r\")\n",
    "ax2.scatter(x2,y,marker='*',color=\"r\")\n",
    "ax3.scatter(x3,y,marker='*',color=\"r\")\n",
    "ax4.scatter(x4,y,marker='*',color=\"r\")\n",
    "ax5.scatter(x5,y,marker='*',color=\"r\")\n",
    "ax6.scatter(x6,y,marker='*',color=\"r\")\n",
    "ax7.scatter(x7,y,marker='*',color=\"r\")\n",
    "ax8.scatter(x8,y,marker='*',color=\"r\")\n",
    "ax9.scatter(x9,y,marker='*',color=\"r\")\n",
    "ax10.scatter(x10,y,marker='*',color=\"r\")\n",
    "ax11.scatter(x11,y,marker='*',color=\"r\")\n",
    "\n",
    "\n",
    "ax1.set_xlabel('x1')\n",
    "ax1.set_ylabel('y')\n",
    "ax1.set_title(np.corrcoef(x1,y))\n",
    "\n",
    "ax2.set_xlabel('x2')\n",
    "ax2.set_ylabel('y')\n",
    "ax2.set_title(np.corrcoef(x2,y))\n",
    "\n",
    "ax3.set_xlabel('x3')\n",
    "ax3.set_ylabel('y')\n",
    "ax3.set_title(np.corrcoef(x3,y))\n",
    "\n",
    "ax4.set_xlabel('x4')\n",
    "ax4.set_ylabel('y')\n",
    "ax4.set_title(np.corrcoef(x4,y))\n",
    "\n",
    "ax5.set_xlabel('x5')\n",
    "ax5.set_ylabel('y')\n",
    "ax5.set_title(np.corrcoef(x5,y))\n",
    "\n",
    "ax6.set_xlabel('x6')\n",
    "ax6.set_ylabel('y')\n",
    "ax6.set_title(np.corrcoef(x6,y))\n",
    "\n",
    "ax7.set_xlabel('x7')\n",
    "ax7.set_ylabel('y')\n",
    "ax7.set_title(np.corrcoef(x7,y))\n",
    "\n",
    "ax8.set_xlabel('x8')\n",
    "ax8.set_ylabel('y')\n",
    "ax8.set_title(np.corrcoef(x8,y))\n",
    "\n",
    "ax9.set_xlabel('x9')\n",
    "ax9.set_ylabel('y')\n",
    "ax9.set_title(np.corrcoef(x9,y))\n",
    "\n",
    "ax10.set_xlabel('x10')\n",
    "ax10.set_ylabel('y')\n",
    "ax10.set_title(np.corrcoef(x10,y))\n",
    "\n",
    "ax11.set_xlabel('x11')\n",
    "ax11.set_ylabel('y')\n",
    "ax11.set_title(np.corrcoef(x11,y))\n",
    "\n",
    "\n",
    "plt.show()"
   ]
  },
  {
   "cell_type": "markdown",
   "metadata": {},
   "source": [
    "### Instrucciones\n",
    "\n",
    "1. Seleccionar y transformar(generando las combinaciones polinomiales para un polinomio de grado dos o tres a elección) las features que considere que son las mejores para predecir la calidad del vino, utilizar como minimo 2 features. Para seleccionar las features, hacer un analisis exploratorio por ejemplo(pero no limitado a ):  graficando y viendo la forma en que se comportan los datos.\n",
    "\n",
    " Por ejemplo, se tienen las features \"a\" y \"b\" y seleccionamos polinomio de grado 2, hacemos feature engineering para obtener :\n",
    " \n",
    " $[a,b,a^{2},b^{2},ab]$\n",
    " \n",
    " No olvidar el \"bias\" (parámetro multiplicado por 1) ,con lo cual el dataset puede quedar con las columnas:\n",
    " \n",
    " $[1,a,b,a^{2},b^{2},ab]$\n",
    "2. Una vez transformada la data aplicar regresion lineal con las features polinomiales usando Tensorflow.\n",
    "\n",
    "Requisitos adicionales:\n",
    "* Se debe agregar al notebook un screenshot del grafo de tensorboard, simplificando(usando  names , y name_scope como visto en clase).\n",
    "\n",
    "* Se debe generar un directorio de logs de tensorboard para cada corrida/experimento , con cada directorio identificando facilmente la configuración del experimento como visto en clase, por ejemplo para un experimento con learning rate = 0.1 , y polinomio grado 2  crear un directorio: lr=0.1_polinomio_grado=2. (Agregar al notebook un screenshot de estas gráficas)\n",
    "\n",
    "* Concluir en markdown cual es el mejor modelo para este caso basado en la comparativa entre curvas de costo/error en tensorboard."
   ]
  },
  {
   "cell_type": "markdown",
   "metadata": {},
   "source": [
    "## Nota: tengo problemas para correr tensorboard en mi laptop, el profesor trato de ayudarme pero no se pudo solucionar el problema"
   ]
  },
  {
   "cell_type": "markdown",
   "metadata": {},
   "source": [
    "## Elección de las 2 variables con más potencial predictivo"
   ]
  },
  {
   "cell_type": "markdown",
   "metadata": {},
   "source": [
    "## x2 con un coeficiente de correlación de -0.39055"
   ]
  },
  {
   "cell_type": "code",
   "execution_count": 45,
   "metadata": {},
   "outputs": [
    {
     "name": "stdout",
     "output_type": "stream",
     "text": [
      "Tipo <class 'numpy.ndarray'>\n",
      "Forma (1599,)\n",
      "Rango 1\n",
      "Vista de los datos [0.7   0.88  0.76  ... 0.51  0.645 0.31 ]\n"
     ]
    }
   ],
   "source": [
    "print(\"Tipo\", type(x2))\n",
    "print(\"Forma\", x2.shape)\n",
    "print(\"Rango\", x2.ndim)\n",
    "print(\"Vista de los datos\", x2)"
   ]
  },
  {
   "cell_type": "markdown",
   "metadata": {},
   "source": [
    "## x11 con un coeficiente de correlación de 0.476"
   ]
  },
  {
   "cell_type": "code",
   "execution_count": 46,
   "metadata": {},
   "outputs": [
    {
     "name": "stdout",
     "output_type": "stream",
     "text": [
      "Tipo <class 'numpy.ndarray'>\n",
      "Forma (1599,)\n",
      "Rango 1\n",
      "Vista de los datos [ 9.4  9.8  9.8 ... 11.  10.2 11. ]\n"
     ]
    }
   ],
   "source": [
    "print(\"Tipo\", type(x11))\n",
    "print(\"Forma\", x11.shape)\n",
    "print(\"Rango\", x11.ndim)\n",
    "print(\"Vista de los datos\", x11)"
   ]
  },
  {
   "cell_type": "code",
   "execution_count": 48,
   "metadata": {},
   "outputs": [
    {
     "name": "stdout",
     "output_type": "stream",
     "text": [
      "Tipo <class 'numpy.ndarray'>\n",
      "Forma (1599, 1)\n",
      "Rango 2\n",
      "Vista de los datos [[5.]\n",
      " [5.]\n",
      " [5.]\n",
      " ...\n",
      " [6.]\n",
      " [5.]\n",
      " [6.]]\n"
     ]
    }
   ],
   "source": [
    "y = np.reshape(y,(1599,1))\n",
    "print(\"Tipo\", type(y))\n",
    "print(\"Forma\", y.shape)\n",
    "print(\"Rango\", y.ndim)\n",
    "print(\"Vista de los datos\", y)"
   ]
  },
  {
   "cell_type": "code",
   "execution_count": 49,
   "metadata": {},
   "outputs": [
    {
     "name": "stdout",
     "output_type": "stream",
     "text": [
      "Tipo <class 'numpy.ndarray'>\n",
      "Forma (1599, 1)\n",
      "Rango 2\n",
      "Vista de los datos [[0.7  ]\n",
      " [0.88 ]\n",
      " [0.76 ]\n",
      " ...\n",
      " [0.51 ]\n",
      " [0.645]\n",
      " [0.31 ]]\n"
     ]
    }
   ],
   "source": [
    "x2 = np.reshape(x2,(1599,1))\n",
    "print(\"Tipo\", type(x2))\n",
    "print(\"Forma\", x2.shape)\n",
    "print(\"Rango\", x2.ndim)\n",
    "print(\"Vista de los datos\", x2)"
   ]
  },
  {
   "cell_type": "code",
   "execution_count": 50,
   "metadata": {},
   "outputs": [
    {
     "name": "stdout",
     "output_type": "stream",
     "text": [
      "Tipo <class 'numpy.ndarray'>\n",
      "Forma (1599, 1)\n",
      "Rango 2\n",
      "Vista de los datos [[ 9.4]\n",
      " [ 9.8]\n",
      " [ 9.8]\n",
      " ...\n",
      " [11. ]\n",
      " [10.2]\n",
      " [11. ]]\n"
     ]
    }
   ],
   "source": [
    "x11 = np.reshape(x11,(1599,1))\n",
    "print(\"Tipo\", type(x11))\n",
    "print(\"Forma\", x11.shape)\n",
    "print(\"Rango\", x11.ndim)\n",
    "print(\"Vista de los datos\", x11)"
   ]
  },
  {
   "cell_type": "code",
   "execution_count": 52,
   "metadata": {},
   "outputs": [
    {
     "name": "stdout",
     "output_type": "stream",
     "text": [
      "Tipo <class 'numpy.ndarray'>\n",
      "Forma (1599, 1)\n",
      "Rango 2\n",
      "Vista de los datos [[0.49    ]\n",
      " [0.7744  ]\n",
      " [0.5776  ]\n",
      " ...\n",
      " [0.2601  ]\n",
      " [0.416025]\n",
      " [0.0961  ]]\n"
     ]
    }
   ],
   "source": [
    "x2sqr = np.power(x2, 2) \n",
    "print(\"Tipo\", type(x2sqr))\n",
    "print(\"Forma\", x2sqr.shape)\n",
    "print(\"Rango\", x2sqr.ndim)\n",
    "print(\"Vista de los datos\", x2sqr)"
   ]
  },
  {
   "cell_type": "code",
   "execution_count": 53,
   "metadata": {},
   "outputs": [
    {
     "name": "stdout",
     "output_type": "stream",
     "text": [
      "Tipo <class 'numpy.ndarray'>\n",
      "Forma (1599, 1)\n",
      "Rango 2\n",
      "Vista de los datos [[ 88.36]\n",
      " [ 96.04]\n",
      " [ 96.04]\n",
      " ...\n",
      " [121.  ]\n",
      " [104.04]\n",
      " [121.  ]]\n"
     ]
    }
   ],
   "source": [
    "x11sqr = np.power(x11, 2) \n",
    "print(\"Tipo\", type(x11sqr))\n",
    "print(\"Forma\", x11sqr.shape)\n",
    "print(\"Rango\", x11sqr.ndim)\n",
    "print(\"Vista de los datos\", x11sqr) "
   ]
  },
  {
   "cell_type": "code",
   "execution_count": 54,
   "metadata": {},
   "outputs": [
    {
     "name": "stdout",
     "output_type": "stream",
     "text": [
      "Tipo <class 'numpy.ndarray'>\n",
      "Forma (1599, 1)\n",
      "Rango 2\n",
      "Vista de los datos [[6.58 ]\n",
      " [8.624]\n",
      " [7.448]\n",
      " ...\n",
      " [5.61 ]\n",
      " [6.579]\n",
      " [3.41 ]]\n"
     ]
    }
   ],
   "source": [
    "x2x11 = x2 * x11\n",
    "print(\"Tipo\", type(x2x11))\n",
    "print(\"Forma\", x2x11.shape)\n",
    "print(\"Rango\", x2x11.ndim)\n",
    "print(\"Vista de los datos\", x2x11) "
   ]
  },
  {
   "cell_type": "markdown",
   "metadata": {},
   "source": [
    "## Vector de unos "
   ]
  },
  {
   "cell_type": "code",
   "execution_count": 56,
   "metadata": {},
   "outputs": [
    {
     "name": "stdout",
     "output_type": "stream",
     "text": [
      "Tipo <class 'numpy.ndarray'>\n",
      "Forma (1599, 1)\n",
      "Rango 2\n",
      "Vista de los datos [[1.]\n",
      " [1.]\n",
      " [1.]\n",
      " ...\n",
      " [1.]\n",
      " [1.]\n",
      " [1.]]\n"
     ]
    }
   ],
   "source": [
    "unos = np.ones_like(y)\n",
    "print(\"Tipo\", type(unos))\n",
    "print(\"Forma\", unos.shape)\n",
    "print(\"Rango\", unos.ndim)\n",
    "print(\"Vista de los datos\", unos) "
   ]
  },
  {
   "cell_type": "markdown",
   "metadata": {},
   "source": [
    "## Nueva matriz"
   ]
  },
  {
   "cell_type": "code",
   "execution_count": 57,
   "metadata": {},
   "outputs": [
    {
     "name": "stdout",
     "output_type": "stream",
     "text": [
      "Tipo <class 'numpy.ndarray'>\n",
      "Forma (1599, 6)\n",
      "Rango 2\n",
      "Vista de los datos [[1.00000e+00 7.00000e-01 9.40000e+00 6.58000e+00 4.90000e-01 8.83600e+01]\n",
      " [1.00000e+00 8.80000e-01 9.80000e+00 8.62400e+00 7.74400e-01 9.60400e+01]\n",
      " [1.00000e+00 7.60000e-01 9.80000e+00 7.44800e+00 5.77600e-01 9.60400e+01]\n",
      " ...\n",
      " [1.00000e+00 5.10000e-01 1.10000e+01 5.61000e+00 2.60100e-01 1.21000e+02]\n",
      " [1.00000e+00 6.45000e-01 1.02000e+01 6.57900e+00 4.16025e-01 1.04040e+02]\n",
      " [1.00000e+00 3.10000e-01 1.10000e+01 3.41000e+00 9.61000e-02 1.21000e+02]]\n"
     ]
    }
   ],
   "source": [
    "new = np.hstack((unos,x2,x11,x2x11,x2sqr,x11sqr))\n",
    "print(\"Tipo\", type(new))\n",
    "print(\"Forma\", new.shape)\n",
    "print(\"Rango\", new.ndim)\n",
    "print(\"Vista de los datos\", new) "
   ]
  },
  {
   "cell_type": "markdown",
   "metadata": {},
   "source": [
    "## Vector de parametos entrenables"
   ]
  },
  {
   "cell_type": "code",
   "execution_count": 59,
   "metadata": {},
   "outputs": [
    {
     "name": "stdout",
     "output_type": "stream",
     "text": [
      "Tipo <class 'numpy.ndarray'>\n",
      "Forma (6, 1)\n",
      "Rango 2\n",
      "Vista de los datos [[0.]\n",
      " [0.]\n",
      " [0.]\n",
      " [0.]\n",
      " [0.]\n",
      " [0.]]\n"
     ]
    }
   ],
   "source": [
    "estimadores =  np.array([[0.0],\n",
    "                         [0.0],\n",
    "                         [0.0],\n",
    "                         [0.0],\n",
    "                         [0.0],\n",
    "                         [0.0]])\n",
    "\n",
    "print(\"Tipo\", type(estimadores ))\n",
    "print(\"Forma\", estimadores.shape)\n",
    "print(\"Rango\", estimadores.ndim)\n",
    "print(\"Vista de los datos\", estimadores)\n"
   ]
  },
  {
   "cell_type": "markdown",
   "metadata": {},
   "source": [
    "## Grafo"
   ]
  },
  {
   "cell_type": "code",
   "execution_count": 60,
   "metadata": {},
   "outputs": [],
   "source": [
    "\n",
    "grafo1 = tf.Graph()\n",
    "with grafo1.as_default():\n",
    "    # cargando datos como constantes \n",
    "    yentreno_g = tf.constant(y)\n",
    "    xentreno_g = tf.constant(new)\n",
    "      \n",
    "    #placeholder = \n",
    "    ph_lr_g = tf.placeholder(dtype = tf.float64)    \n",
    "  \n",
    "    # definiendo los parametros o estimadores beta 1 y beta 2 como\n",
    "    # variables\n",
    "    #estimadores = tf.Variable(np.array([[0],\n",
    "                                        #[0]]))\n",
    "        \n",
    "    estimadores_g = tf.Variable(estimadores, name = \"Betas\", dtype = tf.float64)\n",
    "    \n",
    "    # entrenamiento\n",
    "    #yhat = tf.matmul(xentreno, estimadores)\n",
    "    # hipotesis \n",
    "    yhat_g = tf.matmul(xentreno_g, estimadores_g)\n",
    "    \n",
    "    # costo\n",
    "    error_g = (tf.reduce_mean(tf.pow(yentreno_g-yhat_g,2)))*0.5\n",
    "    \n",
    "    ##para tensorboard\n",
    "    first_summary = tf.summary.scalar(name='My_first_scalar_summary', tensor=error_g)\n",
    "    \n",
    "    # gradient descent un nodo mas del grafo\n",
    "    optimizacion_g = tf.train.GradientDescentOptimizer(ph_lr_g).minimize(error_g)"
   ]
  },
  {
   "cell_type": "markdown",
   "metadata": {},
   "source": [
    "## Sesion"
   ]
  },
  {
   "cell_type": "code",
   "execution_count": 86,
   "metadata": {},
   "outputs": [],
   "source": [
    "def entrenamiento(epochs,lr,imprimir_cada):\n",
    "    with tf.Session(graph = grafo1) as session:\n",
    "        # incializando variables\n",
    "        tf.global_variables_initializer().run()\n",
    "        print('Initialized')\n",
    "        writer = tf.summary.FileWriter('./graphs', session.graph)\n",
    "        for step in range(epochs): \n",
    "            # sesion que ejecuta los nodos y envia informacion con feed_dict al nodo del learning rate\n",
    "            erro, optimi = session.run([error_g, optimizacion_g],feed_dict={ph_lr_g:lr})\n",
    "            summary = session.run(first_summary)\n",
    "            writer.add_summary(summary, step)\n",
    "            if (step % imprimir_cada == 0):\n",
    "                print(\"Iteracion:\", step, \"Error:\", erro, \"Betas:\", session.run(estimadores_g)) ## "
   ]
  },
  {
   "cell_type": "markdown",
   "metadata": {},
   "source": [
    "## Entrenamieto con learning_rate igual a 0.0001"
   ]
  },
  {
   "cell_type": "code",
   "execution_count": 87,
   "metadata": {},
   "outputs": [
    {
     "name": "stdout",
     "output_type": "stream",
     "text": [
      "Initialized\n",
      "Iteracion: 0 Error: 16.20825515947467 Betas: [[0.0005636 ]\n",
      " [0.00029184]\n",
      " [0.00591537]\n",
      " [0.00303975]\n",
      " [0.00016862]\n",
      " [0.06275597]]\n",
      "Iteracion: 1 Error: 1.7267961451937053 Betas: [[0.00043041]\n",
      " [0.00022109]\n",
      " [0.00441231]\n",
      " [0.00225021]\n",
      " [0.00012582]\n",
      " [0.04562152]]\n",
      "Iteracion: 2 Error: 0.6487298755236773 Betas: [[0.00048732]\n",
      " [0.00024926]\n",
      " [0.00493324]\n",
      " [0.0025054 ]\n",
      " [0.00014069]\n",
      " [0.05028397]]\n",
      "Iteracion: 3 Error: 0.5683968392567205 Betas: [[0.00049236]\n",
      " [0.00025044]\n",
      " [0.00490194]\n",
      " [0.00247553]\n",
      " [0.00013983]\n",
      " [0.04899947]]\n",
      "Iteracion: 4 Error: 0.5623339605804445 Betas: [[0.00051155]\n",
      " [0.00025898]\n",
      " [0.00502129]\n",
      " [0.0025234 ]\n",
      " [0.00014325]\n",
      " [0.0493375 ]]\n",
      "Iteracion: 5 Error: 0.5617997064900128 Betas: [[0.00052687]\n",
      " [0.00026551]\n",
      " [0.00509952]\n",
      " [0.00255002]\n",
      " [0.00014551]\n",
      " [0.04923286]]\n",
      "Iteracion: 6 Error: 0.5616770360235568 Betas: [[0.00054325]\n",
      " [0.00027259]\n",
      " [0.00518894]\n",
      " [0.00258241]\n",
      " [0.00014808]\n",
      " [0.04924899]]\n",
      "Iteracion: 7 Error: 0.561585042486342 Betas: [[0.00055934]\n",
      " [0.00027951]\n",
      " [0.0052753 ]\n",
      " [0.0026132 ]\n",
      " [0.00015055]\n",
      " [0.04923218]]\n",
      "Iteracion: 8 Error: 0.5614953715903834 Betas: [[0.0005755 ]\n",
      " [0.00028647]\n",
      " [0.00536247]\n",
      " [0.0026444 ]\n",
      " [0.00015306]\n",
      " [0.04922436]]\n",
      "Iteracion: 9 Error: 0.5614059126448165 Betas: [[0.00059164]\n",
      " [0.00029342]\n",
      " [0.0054494 ]\n",
      " [0.00267545]\n",
      " [0.00015555]\n",
      " [0.04921409]]\n"
     ]
    }
   ],
   "source": [
    "entrenamiento(10,0.0001,1)"
   ]
  },
  {
   "cell_type": "markdown",
   "metadata": {},
   "source": [
    "## Entrenamieto con learning_rate igual a 0.001"
   ]
  },
  {
   "cell_type": "code",
   "execution_count": 81,
   "metadata": {},
   "outputs": [
    {
     "name": "stdout",
     "output_type": "stream",
     "text": [
      "Initialized\n",
      "Iteracion: 0 Error: 16.20825515947467\n",
      "Iteracion: 1 Error: 2152.7395461500046\n",
      "Iteracion: 2 Error: 296041.6245825387\n",
      "Iteracion: 3 Error: 40721679.84381266\n",
      "Iteracion: 4 Error: 5601436302.778608\n",
      "Iteracion: 5 Error: 770500853582.5288\n",
      "Iteracion: 6 Error: 105985596075646.78\n",
      "Iteracion: 7 Error: 1.4578759417707786e+16\n",
      "Iteracion: 8 Error: 2.0053689749284836e+18\n",
      "Iteracion: 9 Error: 2.7584684062493583e+20\n"
     ]
    }
   ],
   "source": [
    "entrenamiento(10,0.001,1)"
   ]
  },
  {
   "cell_type": "markdown",
   "metadata": {},
   "source": [
    "## Entrenamieto con learning_rate igual a 0.01"
   ]
  },
  {
   "cell_type": "code",
   "execution_count": 82,
   "metadata": {},
   "outputs": [
    {
     "name": "stdout",
     "output_type": "stream",
     "text": [
      "Initialized\n",
      "Iteracion: 0 Error: 16.20825515947467\n",
      "Iteracion: 1 Error: 249516.10927839874\n",
      "Iteracion: 2 Error: 3979153948.6923733\n",
      "Iteracion: 3 Error: 63457631262519.91\n",
      "Iteracion: 4 Error: 1.0119917494834774e+18\n",
      "Iteracion: 5 Error: 1.6138757162017158e+22\n",
      "Iteracion: 6 Error: 2.5737312865198683e+26\n",
      "Iteracion: 7 Error: 4.1044627344670233e+30\n",
      "Iteracion: 8 Error: 6.545599545245473e+34\n",
      "Iteracion: 9 Error: 1.043860699402386e+39\n"
     ]
    }
   ],
   "source": [
    "entrenamiento(10,0.01,1)"
   ]
  },
  {
   "cell_type": "markdown",
   "metadata": {},
   "source": [
    "## Entrenamieto con learning_rate igual a 0.1"
   ]
  },
  {
   "cell_type": "code",
   "execution_count": 83,
   "metadata": {},
   "outputs": [
    {
     "name": "stdout",
     "output_type": "stream",
     "text": [
      "Initialized\n",
      "Iteracion: 0 Error: 16.20825515947467\n",
      "Iteracion: 1 Error: 25308474.029820945\n",
      "Iteracion: 2 Error: 40938072635873.54\n",
      "Iteracion: 3 Error: 6.621994756188958e+19\n",
      "Iteracion: 4 Error: 1.0711499522957162e+26\n",
      "Iteracion: 5 Error: 1.732653471570307e+32\n",
      "Iteracion: 6 Error: 2.8026776700222807e+38\n",
      "Iteracion: 7 Error: 4.53351016283858e+44\n",
      "Iteracion: 8 Error: 7.333242283404376e+50\n",
      "Iteracion: 9 Error: 1.1861987831839035e+57\n"
     ]
    }
   ],
   "source": [
    "entrenamiento(10,0.1,1)"
   ]
  },
  {
   "cell_type": "markdown",
   "metadata": {},
   "source": [
    "## Entrenamieto con learning_rate igual a 1"
   ]
  },
  {
   "cell_type": "code",
   "execution_count": 84,
   "metadata": {},
   "outputs": [
    {
     "name": "stdout",
     "output_type": "stream",
     "text": [
      "Initialized\n",
      "Iteracion: 0 Error: 16.20825515947467\n",
      "Iteracion: 1 Error: 2534430475.557251\n",
      "Iteracion: 2 Error: 4.1054073208008794e+17\n",
      "Iteracion: 3 Error: 6.650160435276306e+25\n",
      "Iteracion: 4 Error: 1.077228892510648e+34\n",
      "Iteracion: 5 Error: 1.7449535212777195e+42\n",
      "Iteracion: 6 Error: 2.826569926399759e+50\n",
      "Iteracion: 7 Error: 4.578630577493735e+58\n",
      "Iteracion: 8 Error: 7.41671301649437e+66\n",
      "Iteracion: 9 Error: 1.201399218347668e+75\n"
     ]
    }
   ],
   "source": [
    "entrenamiento(10,1,1)"
   ]
  },
  {
   "cell_type": "markdown",
   "metadata": {},
   "source": [
    "## Entrenamieto con learning_rate igual a 10"
   ]
  },
  {
   "cell_type": "code",
   "execution_count": 85,
   "metadata": {},
   "outputs": [
    {
     "name": "stdout",
     "output_type": "stream",
     "text": [
      "Initialized\n",
      "Iteracion: 0 Error: 16.20825515947467\n",
      "Iteracion: 1 Error: 253478892723.0321\n",
      "Iteracion: 2 Error: 4.106568680854011e+21\n",
      "Iteracion: 3 Error: 6.652982485408457e+31\n",
      "Iteracion: 4 Error: 1.0778384435042922e+42\n",
      "Iteracion: 5 Error: 1.7461878380767007e+52\n",
      "Iteracion: 6 Error: 2.828969391677523e+62\n",
      "Iteracion: 7 Error: 4.583165478842814e+72\n",
      "Iteracion: 8 Error: 7.425108899464157e+82\n",
      "Iteracion: 9 Error: 1.2029293383232125e+93\n"
     ]
    }
   ],
   "source": [
    "entrenamiento(10,10,1)"
   ]
  },
  {
   "cell_type": "markdown",
   "metadata": {},
   "source": [
    "## Conclusiones y Recomendaciones\n",
    "Luego de aplicar un enfoque de investigacion podemos observar como la hipotesis del modelo uno presenta un comportamiento esperado del error en el tiempo, el cual decrece de forma suavizada tendiendo a cero.\n",
    "\n",
    "Por lo que se recomienda utilizar el modelo 1 con un LR de 0.0001\n",
    "\n",
    "El cual dio como resultado lo siguiente: \n",
    "\n",
    "### Parametros entrenables:\n",
    "[[0.00059164]\n",
    " [0.00029342]\n",
    " [0.0054494 ]\n",
    " [0.00267545]\n",
    " [0.00015555]\n",
    " [0.04921409]]\n",
    "\n",
    "### Hipotesis: Y = B0 + B1*X1 + B2*X2 + B3*X1*X2 + B4*X1^2 + B5*X2^2\n",
    "\n",
    "### Y = 0.00059164 + 0.00029342*X1 + 0.0054494*X2 + 0.00267545*X1*X2 + 0.00015555*X1^2 + 0.04921409*X2^2"
   ]
  }
 ],
 "metadata": {
  "kernelspec": {
   "display_name": "Python 3",
   "language": "python",
   "name": "python3"
  },
  "language_info": {
   "codemirror_mode": {
    "name": "ipython",
    "version": 3
   },
   "file_extension": ".py",
   "mimetype": "text/x-python",
   "name": "python",
   "nbconvert_exporter": "python",
   "pygments_lexer": "ipython3",
   "version": "3.6.5"
  }
 },
 "nbformat": 4,
 "nbformat_minor": 2
}
